{
 "cells": [
  {
   "cell_type": "markdown",
   "metadata": {},
   "source": [
    "<img src=\"http://imgur.com/1ZcRyrc.png\" style=\"float: left; margin: 15px; height: 80px\">\n",
    "\n",
    "# Project 3\n",
    "\n",
    "### Regression and Classification with the Ames Housing Data\n",
    "\n",
    "---\n",
    "\n",
    "You have just joined a new \"full stack\" real estate company in Ames, Iowa. The strategy of the firm is two-fold:\n",
    "- Own the entire process from the purchase of the land all the way to sale of the house, and anything in between.\n",
    "- Use statistical analysis to optimize investment and maximize return.\n",
    "\n",
    "The company is still small, and though investment is substantial the short-term goals of the company are more oriented towards purchasing existing houses and flipping them as opposed to constructing entirely new houses. That being said, the company has access to a large construction workforce operating at rock-bottom prices.\n",
    "\n",
    "This project uses the [Ames housing data recently made available on kaggle](https://www.kaggle.com/c/house-prices-advanced-regression-techniques)."
   ]
  },
  {
   "cell_type": "code",
   "execution_count": 2,
   "metadata": {
    "collapsed": true
   },
   "outputs": [],
   "source": [
    "# Import packages\n",
    "import numpy as np\n",
    "import scipy.stats as stats\n",
    "import seaborn as sns\n",
    "import matplotlib.pyplot as plt\n",
    "import pandas as pd\n",
    "from __future__ import division\n",
    "\n",
    "sns.set_style('whitegrid')\n",
    "\n",
    "%config InlineBackend.figure_format = 'retina'\n",
    "%matplotlib inline"
   ]
  },
  {
   "cell_type": "markdown",
   "metadata": {},
   "source": [
    "<img src=\"http://imgur.com/l5NasQj.png\" style=\"float: left; margin: 25px 15px 0px 0px; height: 25px\">\n",
    "\n",
    "## 1. Estimating the value of homes from fixed characteristics.\n",
    "\n",
    "---\n",
    "\n",
    "Your superiors have outlined this year's strategy for the company:\n",
    "1. Develop an algorithm to reliably estimate the value of residential houses based on *fixed* characteristics.\n",
    "2. Identify characteristics of houses that the company can cost-effectively change/renovate with their construction team.\n",
    "3. Evaluate the mean dollar value of different renovations.\n",
    "\n",
    "Then we can use that to buy houses that are likely to sell for more than the cost of the purchase plus renovations.\n",
    "\n",
    "Your first job is to tackle #1. You have a dataset of housing sale data with a huge amount of features identifying different aspects of the house. The full description of the data features can be found in a separate file:\n",
    "\n",
    "    housing.csv\n",
    "    data_description.txt\n",
    "    \n",
    "You need to build a reliable estimator for the price of the house given characteristics of the house that cannot be renovated. Some examples include:\n",
    "- The neighborhood\n",
    "- Square feet\n",
    "- Bedrooms, bathrooms\n",
    "- Basement and garage space\n",
    "\n",
    "and many more. \n",
    "\n",
    "Some examples of things that **ARE renovate-able:**\n",
    "- Roof and exterior features\n",
    "- \"Quality\" metrics, such as kitchen quality\n",
    "- \"Condition\" metrics, such as condition of garage\n",
    "- Heating and electrical components\n",
    "\n",
    "and generally anything you deem can be modified without having to undergo major construction on the house.\n",
    "\n",
    "---\n",
    "\n",
    "**Your goals:**\n",
    "1. Perform any cleaning, feature engineering, and EDA you deem necessary.\n",
    "- Be sure to remove any houses that are not residential from the dataset.\n",
    "- Identify **fixed** features that can predict price.\n",
    "- Train a model on pre-2010 data and evaluate its performance on the 2010 houses.\n",
    "- Characterize your model. How well does it perform? What are the best estimates of price?\n",
    "\n",
    "> **Note:** The EDA and feature engineering component to this project is not trivial! Be sure to always think critically and creatively. Justify your actions! Use the data description file!"
   ]
  },
  {
   "cell_type": "markdown",
   "metadata": {},
   "source": [
    "# Initial Exploration of Data"
   ]
  },
  {
   "cell_type": "code",
   "execution_count": 3,
   "metadata": {},
   "outputs": [
    {
     "data": {
      "text/html": [
       "<div>\n",
       "<style>\n",
       "    .dataframe thead tr:only-child th {\n",
       "        text-align: right;\n",
       "    }\n",
       "\n",
       "    .dataframe thead th {\n",
       "        text-align: left;\n",
       "    }\n",
       "\n",
       "    .dataframe tbody tr th {\n",
       "        vertical-align: top;\n",
       "    }\n",
       "</style>\n",
       "<table border=\"1\" class=\"dataframe\">\n",
       "  <thead>\n",
       "    <tr style=\"text-align: right;\">\n",
       "      <th></th>\n",
       "      <th>Id</th>\n",
       "      <th>MSSubClass</th>\n",
       "      <th>MSZoning</th>\n",
       "      <th>LotFrontage</th>\n",
       "      <th>LotArea</th>\n",
       "      <th>Street</th>\n",
       "      <th>Alley</th>\n",
       "      <th>LotShape</th>\n",
       "      <th>LandContour</th>\n",
       "      <th>Utilities</th>\n",
       "      <th>...</th>\n",
       "      <th>PoolArea</th>\n",
       "      <th>PoolQC</th>\n",
       "      <th>Fence</th>\n",
       "      <th>MiscFeature</th>\n",
       "      <th>MiscVal</th>\n",
       "      <th>MoSold</th>\n",
       "      <th>YrSold</th>\n",
       "      <th>SaleType</th>\n",
       "      <th>SaleCondition</th>\n",
       "      <th>SalePrice</th>\n",
       "    </tr>\n",
       "  </thead>\n",
       "  <tbody>\n",
       "    <tr>\n",
       "      <th>0</th>\n",
       "      <td>1</td>\n",
       "      <td>60</td>\n",
       "      <td>RL</td>\n",
       "      <td>65.0</td>\n",
       "      <td>8450</td>\n",
       "      <td>Pave</td>\n",
       "      <td>NaN</td>\n",
       "      <td>Reg</td>\n",
       "      <td>Lvl</td>\n",
       "      <td>AllPub</td>\n",
       "      <td>...</td>\n",
       "      <td>0</td>\n",
       "      <td>NaN</td>\n",
       "      <td>NaN</td>\n",
       "      <td>NaN</td>\n",
       "      <td>0</td>\n",
       "      <td>2</td>\n",
       "      <td>2008</td>\n",
       "      <td>WD</td>\n",
       "      <td>Normal</td>\n",
       "      <td>208500</td>\n",
       "    </tr>\n",
       "    <tr>\n",
       "      <th>1</th>\n",
       "      <td>2</td>\n",
       "      <td>20</td>\n",
       "      <td>RL</td>\n",
       "      <td>80.0</td>\n",
       "      <td>9600</td>\n",
       "      <td>Pave</td>\n",
       "      <td>NaN</td>\n",
       "      <td>Reg</td>\n",
       "      <td>Lvl</td>\n",
       "      <td>AllPub</td>\n",
       "      <td>...</td>\n",
       "      <td>0</td>\n",
       "      <td>NaN</td>\n",
       "      <td>NaN</td>\n",
       "      <td>NaN</td>\n",
       "      <td>0</td>\n",
       "      <td>5</td>\n",
       "      <td>2007</td>\n",
       "      <td>WD</td>\n",
       "      <td>Normal</td>\n",
       "      <td>181500</td>\n",
       "    </tr>\n",
       "    <tr>\n",
       "      <th>2</th>\n",
       "      <td>3</td>\n",
       "      <td>60</td>\n",
       "      <td>RL</td>\n",
       "      <td>68.0</td>\n",
       "      <td>11250</td>\n",
       "      <td>Pave</td>\n",
       "      <td>NaN</td>\n",
       "      <td>IR1</td>\n",
       "      <td>Lvl</td>\n",
       "      <td>AllPub</td>\n",
       "      <td>...</td>\n",
       "      <td>0</td>\n",
       "      <td>NaN</td>\n",
       "      <td>NaN</td>\n",
       "      <td>NaN</td>\n",
       "      <td>0</td>\n",
       "      <td>9</td>\n",
       "      <td>2008</td>\n",
       "      <td>WD</td>\n",
       "      <td>Normal</td>\n",
       "      <td>223500</td>\n",
       "    </tr>\n",
       "    <tr>\n",
       "      <th>3</th>\n",
       "      <td>4</td>\n",
       "      <td>70</td>\n",
       "      <td>RL</td>\n",
       "      <td>60.0</td>\n",
       "      <td>9550</td>\n",
       "      <td>Pave</td>\n",
       "      <td>NaN</td>\n",
       "      <td>IR1</td>\n",
       "      <td>Lvl</td>\n",
       "      <td>AllPub</td>\n",
       "      <td>...</td>\n",
       "      <td>0</td>\n",
       "      <td>NaN</td>\n",
       "      <td>NaN</td>\n",
       "      <td>NaN</td>\n",
       "      <td>0</td>\n",
       "      <td>2</td>\n",
       "      <td>2006</td>\n",
       "      <td>WD</td>\n",
       "      <td>Abnorml</td>\n",
       "      <td>140000</td>\n",
       "    </tr>\n",
       "    <tr>\n",
       "      <th>4</th>\n",
       "      <td>5</td>\n",
       "      <td>60</td>\n",
       "      <td>RL</td>\n",
       "      <td>84.0</td>\n",
       "      <td>14260</td>\n",
       "      <td>Pave</td>\n",
       "      <td>NaN</td>\n",
       "      <td>IR1</td>\n",
       "      <td>Lvl</td>\n",
       "      <td>AllPub</td>\n",
       "      <td>...</td>\n",
       "      <td>0</td>\n",
       "      <td>NaN</td>\n",
       "      <td>NaN</td>\n",
       "      <td>NaN</td>\n",
       "      <td>0</td>\n",
       "      <td>12</td>\n",
       "      <td>2008</td>\n",
       "      <td>WD</td>\n",
       "      <td>Normal</td>\n",
       "      <td>250000</td>\n",
       "    </tr>\n",
       "  </tbody>\n",
       "</table>\n",
       "<p>5 rows × 81 columns</p>\n",
       "</div>"
      ],
      "text/plain": [
       "   Id  MSSubClass MSZoning  LotFrontage  LotArea Street Alley LotShape  \\\n",
       "0   1          60       RL         65.0     8450   Pave   NaN      Reg   \n",
       "1   2          20       RL         80.0     9600   Pave   NaN      Reg   \n",
       "2   3          60       RL         68.0    11250   Pave   NaN      IR1   \n",
       "3   4          70       RL         60.0     9550   Pave   NaN      IR1   \n",
       "4   5          60       RL         84.0    14260   Pave   NaN      IR1   \n",
       "\n",
       "  LandContour Utilities    ...     PoolArea PoolQC Fence MiscFeature MiscVal  \\\n",
       "0         Lvl    AllPub    ...            0    NaN   NaN         NaN       0   \n",
       "1         Lvl    AllPub    ...            0    NaN   NaN         NaN       0   \n",
       "2         Lvl    AllPub    ...            0    NaN   NaN         NaN       0   \n",
       "3         Lvl    AllPub    ...            0    NaN   NaN         NaN       0   \n",
       "4         Lvl    AllPub    ...            0    NaN   NaN         NaN       0   \n",
       "\n",
       "  MoSold YrSold  SaleType  SaleCondition  SalePrice  \n",
       "0      2   2008        WD         Normal     208500  \n",
       "1      5   2007        WD         Normal     181500  \n",
       "2      9   2008        WD         Normal     223500  \n",
       "3      2   2006        WD        Abnorml     140000  \n",
       "4     12   2008        WD         Normal     250000  \n",
       "\n",
       "[5 rows x 81 columns]"
      ]
     },
     "execution_count": 3,
     "metadata": {},
     "output_type": "execute_result"
    }
   ],
   "source": [
    "# Load the data\n",
    "house = pd.read_csv('./housing.csv')\n",
    "\n",
    "# Print head of house dataframe\n",
    "house.head()"
   ]
  },
  {
   "cell_type": "code",
   "execution_count": 4,
   "metadata": {
    "scrolled": true
   },
   "outputs": [
    {
     "data": {
      "text/html": [
       "<div>\n",
       "<style>\n",
       "    .dataframe thead tr:only-child th {\n",
       "        text-align: right;\n",
       "    }\n",
       "\n",
       "    .dataframe thead th {\n",
       "        text-align: left;\n",
       "    }\n",
       "\n",
       "    .dataframe tbody tr th {\n",
       "        vertical-align: top;\n",
       "    }\n",
       "</style>\n",
       "<table border=\"1\" class=\"dataframe\">\n",
       "  <thead>\n",
       "    <tr style=\"text-align: right;\">\n",
       "      <th></th>\n",
       "      <th>Id</th>\n",
       "      <th>MSSubClass</th>\n",
       "      <th>MSZoning</th>\n",
       "      <th>LotFrontage</th>\n",
       "      <th>LotArea</th>\n",
       "      <th>Street</th>\n",
       "      <th>Alley</th>\n",
       "      <th>LotShape</th>\n",
       "      <th>LandContour</th>\n",
       "      <th>Utilities</th>\n",
       "      <th>...</th>\n",
       "      <th>PoolArea</th>\n",
       "      <th>PoolQC</th>\n",
       "      <th>Fence</th>\n",
       "      <th>MiscFeature</th>\n",
       "      <th>MiscVal</th>\n",
       "      <th>MoSold</th>\n",
       "      <th>YrSold</th>\n",
       "      <th>SaleType</th>\n",
       "      <th>SaleCondition</th>\n",
       "      <th>SalePrice</th>\n",
       "    </tr>\n",
       "  </thead>\n",
       "  <tbody>\n",
       "    <tr>\n",
       "      <th>1455</th>\n",
       "      <td>1456</td>\n",
       "      <td>60</td>\n",
       "      <td>RL</td>\n",
       "      <td>62.0</td>\n",
       "      <td>7917</td>\n",
       "      <td>Pave</td>\n",
       "      <td>NaN</td>\n",
       "      <td>Reg</td>\n",
       "      <td>Lvl</td>\n",
       "      <td>AllPub</td>\n",
       "      <td>...</td>\n",
       "      <td>0</td>\n",
       "      <td>NaN</td>\n",
       "      <td>NaN</td>\n",
       "      <td>NaN</td>\n",
       "      <td>0</td>\n",
       "      <td>8</td>\n",
       "      <td>2007</td>\n",
       "      <td>WD</td>\n",
       "      <td>Normal</td>\n",
       "      <td>175000</td>\n",
       "    </tr>\n",
       "    <tr>\n",
       "      <th>1456</th>\n",
       "      <td>1457</td>\n",
       "      <td>20</td>\n",
       "      <td>RL</td>\n",
       "      <td>85.0</td>\n",
       "      <td>13175</td>\n",
       "      <td>Pave</td>\n",
       "      <td>NaN</td>\n",
       "      <td>Reg</td>\n",
       "      <td>Lvl</td>\n",
       "      <td>AllPub</td>\n",
       "      <td>...</td>\n",
       "      <td>0</td>\n",
       "      <td>NaN</td>\n",
       "      <td>MnPrv</td>\n",
       "      <td>NaN</td>\n",
       "      <td>0</td>\n",
       "      <td>2</td>\n",
       "      <td>2010</td>\n",
       "      <td>WD</td>\n",
       "      <td>Normal</td>\n",
       "      <td>210000</td>\n",
       "    </tr>\n",
       "    <tr>\n",
       "      <th>1457</th>\n",
       "      <td>1458</td>\n",
       "      <td>70</td>\n",
       "      <td>RL</td>\n",
       "      <td>66.0</td>\n",
       "      <td>9042</td>\n",
       "      <td>Pave</td>\n",
       "      <td>NaN</td>\n",
       "      <td>Reg</td>\n",
       "      <td>Lvl</td>\n",
       "      <td>AllPub</td>\n",
       "      <td>...</td>\n",
       "      <td>0</td>\n",
       "      <td>NaN</td>\n",
       "      <td>GdPrv</td>\n",
       "      <td>Shed</td>\n",
       "      <td>2500</td>\n",
       "      <td>5</td>\n",
       "      <td>2010</td>\n",
       "      <td>WD</td>\n",
       "      <td>Normal</td>\n",
       "      <td>266500</td>\n",
       "    </tr>\n",
       "    <tr>\n",
       "      <th>1458</th>\n",
       "      <td>1459</td>\n",
       "      <td>20</td>\n",
       "      <td>RL</td>\n",
       "      <td>68.0</td>\n",
       "      <td>9717</td>\n",
       "      <td>Pave</td>\n",
       "      <td>NaN</td>\n",
       "      <td>Reg</td>\n",
       "      <td>Lvl</td>\n",
       "      <td>AllPub</td>\n",
       "      <td>...</td>\n",
       "      <td>0</td>\n",
       "      <td>NaN</td>\n",
       "      <td>NaN</td>\n",
       "      <td>NaN</td>\n",
       "      <td>0</td>\n",
       "      <td>4</td>\n",
       "      <td>2010</td>\n",
       "      <td>WD</td>\n",
       "      <td>Normal</td>\n",
       "      <td>142125</td>\n",
       "    </tr>\n",
       "    <tr>\n",
       "      <th>1459</th>\n",
       "      <td>1460</td>\n",
       "      <td>20</td>\n",
       "      <td>RL</td>\n",
       "      <td>75.0</td>\n",
       "      <td>9937</td>\n",
       "      <td>Pave</td>\n",
       "      <td>NaN</td>\n",
       "      <td>Reg</td>\n",
       "      <td>Lvl</td>\n",
       "      <td>AllPub</td>\n",
       "      <td>...</td>\n",
       "      <td>0</td>\n",
       "      <td>NaN</td>\n",
       "      <td>NaN</td>\n",
       "      <td>NaN</td>\n",
       "      <td>0</td>\n",
       "      <td>6</td>\n",
       "      <td>2008</td>\n",
       "      <td>WD</td>\n",
       "      <td>Normal</td>\n",
       "      <td>147500</td>\n",
       "    </tr>\n",
       "  </tbody>\n",
       "</table>\n",
       "<p>5 rows × 81 columns</p>\n",
       "</div>"
      ],
      "text/plain": [
       "        Id  MSSubClass MSZoning  LotFrontage  LotArea Street Alley LotShape  \\\n",
       "1455  1456          60       RL         62.0     7917   Pave   NaN      Reg   \n",
       "1456  1457          20       RL         85.0    13175   Pave   NaN      Reg   \n",
       "1457  1458          70       RL         66.0     9042   Pave   NaN      Reg   \n",
       "1458  1459          20       RL         68.0     9717   Pave   NaN      Reg   \n",
       "1459  1460          20       RL         75.0     9937   Pave   NaN      Reg   \n",
       "\n",
       "     LandContour Utilities    ...     PoolArea PoolQC  Fence MiscFeature  \\\n",
       "1455         Lvl    AllPub    ...            0    NaN    NaN         NaN   \n",
       "1456         Lvl    AllPub    ...            0    NaN  MnPrv         NaN   \n",
       "1457         Lvl    AllPub    ...            0    NaN  GdPrv        Shed   \n",
       "1458         Lvl    AllPub    ...            0    NaN    NaN         NaN   \n",
       "1459         Lvl    AllPub    ...            0    NaN    NaN         NaN   \n",
       "\n",
       "     MiscVal MoSold YrSold  SaleType  SaleCondition  SalePrice  \n",
       "1455       0      8   2007        WD         Normal     175000  \n",
       "1456       0      2   2010        WD         Normal     210000  \n",
       "1457    2500      5   2010        WD         Normal     266500  \n",
       "1458       0      4   2010        WD         Normal     142125  \n",
       "1459       0      6   2008        WD         Normal     147500  \n",
       "\n",
       "[5 rows x 81 columns]"
      ]
     },
     "execution_count": 4,
     "metadata": {},
     "output_type": "execute_result"
    }
   ],
   "source": [
    "# Print tail of dataframe\n",
    "house.tail()"
   ]
  },
  {
   "cell_type": "code",
   "execution_count": 5,
   "metadata": {},
   "outputs": [
    {
     "data": {
      "text/plain": [
       "array(['Id', 'MSSubClass', 'MSZoning', 'LotFrontage', 'LotArea', 'Street',\n",
       "       'Alley', 'LotShape', 'LandContour', 'Utilities', 'LotConfig',\n",
       "       'LandSlope', 'Neighborhood', 'Condition1', 'Condition2', 'BldgType',\n",
       "       'HouseStyle', 'OverallQual', 'OverallCond', 'YearBuilt',\n",
       "       'YearRemodAdd', 'RoofStyle', 'RoofMatl', 'Exterior1st',\n",
       "       'Exterior2nd', 'MasVnrType', 'MasVnrArea', 'ExterQual', 'ExterCond',\n",
       "       'Foundation', 'BsmtQual', 'BsmtCond', 'BsmtExposure',\n",
       "       'BsmtFinType1', 'BsmtFinSF1', 'BsmtFinType2', 'BsmtFinSF2',\n",
       "       'BsmtUnfSF', 'TotalBsmtSF', 'Heating', 'HeatingQC', 'CentralAir',\n",
       "       'Electrical', '1stFlrSF', '2ndFlrSF', 'LowQualFinSF', 'GrLivArea',\n",
       "       'BsmtFullBath', 'BsmtHalfBath', 'FullBath', 'HalfBath',\n",
       "       'BedroomAbvGr', 'KitchenAbvGr', 'KitchenQual', 'TotRmsAbvGrd',\n",
       "       'Functional', 'Fireplaces', 'FireplaceQu', 'GarageType',\n",
       "       'GarageYrBlt', 'GarageFinish', 'GarageCars', 'GarageArea',\n",
       "       'GarageQual', 'GarageCond', 'PavedDrive', 'WoodDeckSF',\n",
       "       'OpenPorchSF', 'EnclosedPorch', '3SsnPorch', 'ScreenPorch',\n",
       "       'PoolArea', 'PoolQC', 'Fence', 'MiscFeature', 'MiscVal', 'MoSold',\n",
       "       'YrSold', 'SaleType', 'SaleCondition', 'SalePrice'], dtype=object)"
      ]
     },
     "execution_count": 5,
     "metadata": {},
     "output_type": "execute_result"
    }
   ],
   "source": [
    "# Print column headers of house\n",
    "house.columns.values"
   ]
  },
  {
   "cell_type": "markdown",
   "metadata": {},
   "source": [
    "# Data Cleaning:\n",
    "The data will be cleaned by:\n",
    "* Removing duplicates\n",
    "* Checking for null values\n",
    "* Conversion of compatible columns to non-object types if possible\n",
    "        "
   ]
  },
  {
   "cell_type": "code",
   "execution_count": 6,
   "metadata": {},
   "outputs": [
    {
     "data": {
      "text/plain": [
       "(1460, 81)"
      ]
     },
     "execution_count": 6,
     "metadata": {},
     "output_type": "execute_result"
    }
   ],
   "source": [
    "# Initial check of shape before manipulation\n",
    "house.shape"
   ]
  },
  {
   "cell_type": "code",
   "execution_count": 7,
   "metadata": {},
   "outputs": [
    {
     "data": {
      "text/plain": [
       "(1460, 81)"
      ]
     },
     "execution_count": 7,
     "metadata": {},
     "output_type": "execute_result"
    }
   ],
   "source": [
    "# Drop duplicates found within dataframe\n",
    "house.drop_duplicates()\n",
    "\n",
    "# Check shape of dataframe to determine if changes occurred\n",
    "house.shape"
   ]
  },
  {
   "cell_type": "markdown",
   "metadata": {},
   "source": [
    "## Duplicates\n",
    "It appears that there are no duplicates within the dataset. This is seen by calling .shape on the dataset before and after removing duplicates to check for changes"
   ]
  },
  {
   "cell_type": "markdown",
   "metadata": {},
   "source": [
    "# Datatypes\n",
    "* Using house.info() and the text file describing the dataset, we are able to determine which columns are considered categorical, and which ones contain continous data."
   ]
  },
  {
   "cell_type": "code",
   "execution_count": 8,
   "metadata": {
    "scrolled": true
   },
   "outputs": [
    {
     "name": "stdout",
     "output_type": "stream",
     "text": [
      "<class 'pandas.core.frame.DataFrame'>\n",
      "RangeIndex: 1460 entries, 0 to 1459\n",
      "Data columns (total 81 columns):\n",
      "Id               1460 non-null int64\n",
      "MSSubClass       1460 non-null int64\n",
      "MSZoning         1460 non-null object\n",
      "LotFrontage      1201 non-null float64\n",
      "LotArea          1460 non-null int64\n",
      "Street           1460 non-null object\n",
      "Alley            91 non-null object\n",
      "LotShape         1460 non-null object\n",
      "LandContour      1460 non-null object\n",
      "Utilities        1460 non-null object\n",
      "LotConfig        1460 non-null object\n",
      "LandSlope        1460 non-null object\n",
      "Neighborhood     1460 non-null object\n",
      "Condition1       1460 non-null object\n",
      "Condition2       1460 non-null object\n",
      "BldgType         1460 non-null object\n",
      "HouseStyle       1460 non-null object\n",
      "OverallQual      1460 non-null int64\n",
      "OverallCond      1460 non-null int64\n",
      "YearBuilt        1460 non-null int64\n",
      "YearRemodAdd     1460 non-null int64\n",
      "RoofStyle        1460 non-null object\n",
      "RoofMatl         1460 non-null object\n",
      "Exterior1st      1460 non-null object\n",
      "Exterior2nd      1460 non-null object\n",
      "MasVnrType       1452 non-null object\n",
      "MasVnrArea       1452 non-null float64\n",
      "ExterQual        1460 non-null object\n",
      "ExterCond        1460 non-null object\n",
      "Foundation       1460 non-null object\n",
      "BsmtQual         1423 non-null object\n",
      "BsmtCond         1423 non-null object\n",
      "BsmtExposure     1422 non-null object\n",
      "BsmtFinType1     1423 non-null object\n",
      "BsmtFinSF1       1460 non-null int64\n",
      "BsmtFinType2     1422 non-null object\n",
      "BsmtFinSF2       1460 non-null int64\n",
      "BsmtUnfSF        1460 non-null int64\n",
      "TotalBsmtSF      1460 non-null int64\n",
      "Heating          1460 non-null object\n",
      "HeatingQC        1460 non-null object\n",
      "CentralAir       1460 non-null object\n",
      "Electrical       1459 non-null object\n",
      "1stFlrSF         1460 non-null int64\n",
      "2ndFlrSF         1460 non-null int64\n",
      "LowQualFinSF     1460 non-null int64\n",
      "GrLivArea        1460 non-null int64\n",
      "BsmtFullBath     1460 non-null int64\n",
      "BsmtHalfBath     1460 non-null int64\n",
      "FullBath         1460 non-null int64\n",
      "HalfBath         1460 non-null int64\n",
      "BedroomAbvGr     1460 non-null int64\n",
      "KitchenAbvGr     1460 non-null int64\n",
      "KitchenQual      1460 non-null object\n",
      "TotRmsAbvGrd     1460 non-null int64\n",
      "Functional       1460 non-null object\n",
      "Fireplaces       1460 non-null int64\n",
      "FireplaceQu      770 non-null object\n",
      "GarageType       1379 non-null object\n",
      "GarageYrBlt      1379 non-null float64\n",
      "GarageFinish     1379 non-null object\n",
      "GarageCars       1460 non-null int64\n",
      "GarageArea       1460 non-null int64\n",
      "GarageQual       1379 non-null object\n",
      "GarageCond       1379 non-null object\n",
      "PavedDrive       1460 non-null object\n",
      "WoodDeckSF       1460 non-null int64\n",
      "OpenPorchSF      1460 non-null int64\n",
      "EnclosedPorch    1460 non-null int64\n",
      "3SsnPorch        1460 non-null int64\n",
      "ScreenPorch      1460 non-null int64\n",
      "PoolArea         1460 non-null int64\n",
      "PoolQC           7 non-null object\n",
      "Fence            281 non-null object\n",
      "MiscFeature      54 non-null object\n",
      "MiscVal          1460 non-null int64\n",
      "MoSold           1460 non-null int64\n",
      "YrSold           1460 non-null int64\n",
      "SaleType         1460 non-null object\n",
      "SaleCondition    1460 non-null object\n",
      "SalePrice        1460 non-null int64\n",
      "dtypes: float64(3), int64(35), object(43)\n",
      "memory usage: 924.0+ KB\n"
     ]
    }
   ],
   "source": [
    "house.info()"
   ]
  },
  {
   "cell_type": "markdown",
   "metadata": {},
   "source": [
    "## Continous Data\n",
    "* MasVnrArea: Masonry veneer area in square feet\n",
    "* LotFrontage: Linear feet of street connected to property\n",
    "* LotArea: Lot size in square feet\n",
    "* YearBuilt: Original construction date\n",
    "* YearRemodAdd: Remodel date (same as construction date if no remodeling or additions)\n",
    "* BsmtFinSF1: Type 1 finished square feet\n",
    "* BsmtFinSF2: Type 2 finished square feet\n",
    "* BsmtUnfSF: Unfinished square feet of basement area\n",
    "* TotalBsmtSF: Total square feet of basement area\n",
    "* 1stFlrSF: First Floor square feet\n",
    "* 2ndFlrSF: Second floor square feet\n",
    "* LowQualFinSF: Low quality finished square feet (all floors)\n",
    "* GrLivArea: Above grade (ground) living area square feet\n",
    "* GarageYrBlt: Year garage was built\n",
    "* GarageArea: Size of garage in square feet\n",
    "* WoodDeckSF: Wood deck area in square feet\n",
    "* OpenPorchSF: Open porch area in square feet\n",
    "* EnclosedPorch: Enclosed porch area in square feet\n",
    "* 3SsnPorch: Three season porch area in square feet\n",
    "* ScreenPorch: Screen porch area in square feet\n",
    "* PoolArea: Pool area in square feet\n",
    "* MiscVal: (Dollar)Value of miscellaneous feature\n",
    "* YrSold: Year Sold (YYYY)\n",
    "\n",
    "\n",
    "## Discrete (potentially)\n",
    "\n",
    "* BsmtFullBath: Basement full bathrooms\n",
    "* BsmtHalfBath: Basement half bathrooms\n",
    "* FullBath: Full bathrooms above grade\n",
    "* HalfBath: Half baths above grade\n",
    "* Bedroom: Bedrooms above grade (does NOT include basement bedrooms)\n",
    "* Kitchen: Kitchens above grade\n",
    "* TotRmsAbvGrd: Total rooms above grade (does not include bathrooms)\n",
    "* Fireplaces: Number of fireplaces\n",
    "* GarageCars: Size of garage in car capacity\n",
    "* MoSold: Month Sold (MM)\n",
    "\n",
    "\n",
    "## Steps\n",
    "* Attempt to convert all above points into non-object types. Other columns tend to hold categorical data, sometimes in the form of code strings (eg. two letter notation for MSzoning) or 1-10 ranking metrics.\n",
    "* Those considered optional qualities of a house (such as Pool or fireplace) null values, are tolerated.\n"
   ]
  },
  {
   "cell_type": "code",
   "execution_count": 9,
   "metadata": {
    "scrolled": true
   },
   "outputs": [
    {
     "data": {
      "text/plain": [
       "PoolQC           1453\n",
       "MiscFeature      1406\n",
       "Alley            1369\n",
       "Fence            1179\n",
       "FireplaceQu       690\n",
       "LotFrontage       259\n",
       "GarageCond         81\n",
       "GarageType         81\n",
       "GarageYrBlt        81\n",
       "GarageFinish       81\n",
       "GarageQual         81\n",
       "BsmtExposure       38\n",
       "BsmtFinType2       38\n",
       "BsmtFinType1       37\n",
       "BsmtCond           37\n",
       "BsmtQual           37\n",
       "MasVnrArea          8\n",
       "MasVnrType          8\n",
       "Electrical          1\n",
       "Utilities           0\n",
       "YearRemodAdd        0\n",
       "MSSubClass          0\n",
       "Foundation          0\n",
       "ExterCond           0\n",
       "ExterQual           0\n",
       "Exterior2nd         0\n",
       "Exterior1st         0\n",
       "RoofMatl            0\n",
       "RoofStyle           0\n",
       "YearBuilt           0\n",
       "                 ... \n",
       "GarageArea          0\n",
       "PavedDrive          0\n",
       "WoodDeckSF          0\n",
       "OpenPorchSF         0\n",
       "3SsnPorch           0\n",
       "BsmtUnfSF           0\n",
       "ScreenPorch         0\n",
       "PoolArea            0\n",
       "MiscVal             0\n",
       "MoSold              0\n",
       "YrSold              0\n",
       "SaleType            0\n",
       "Functional          0\n",
       "TotRmsAbvGrd        0\n",
       "KitchenQual         0\n",
       "KitchenAbvGr        0\n",
       "BedroomAbvGr        0\n",
       "HalfBath            0\n",
       "FullBath            0\n",
       "BsmtHalfBath        0\n",
       "BsmtFullBath        0\n",
       "GrLivArea           0\n",
       "LowQualFinSF        0\n",
       "2ndFlrSF            0\n",
       "1stFlrSF            0\n",
       "CentralAir          0\n",
       "SaleCondition       0\n",
       "Heating             0\n",
       "TotalBsmtSF         0\n",
       "Id                  0\n",
       "Length: 81, dtype: int64"
      ]
     },
     "execution_count": 9,
     "metadata": {},
     "output_type": "execute_result"
    }
   ],
   "source": [
    "# Check for null values in each column\n",
    "house.isnull().sum().sort_values(ascending=False)"
   ]
  },
  {
   "cell_type": "markdown",
   "metadata": {},
   "source": [
    "Upon closer inspection of the columns' null values, it is found that the null values are within columns that have reasonable reasons to be null. The important columns of MSZoning (used for filtering residential properties) and SalePrice (used as our target) contain no null values."
   ]
  },
  {
   "cell_type": "markdown",
   "metadata": {},
   "source": [
    "## Potential Dummy Variables\n",
    "* MSSubClass: 16 dummies\n",
    "* MSZoning: 8 Dummies\n",
    "* Street: 4 Dummies\n",
    "* Alley: 3 dummies\n",
    "* LotShape: 4 dummies\n",
    "* LandContour: 4 dummies\n",
    "* Utilities: 4 dummies\n",
    "* LotConfig: 4 dummies\n",
    "* LandSlope: 3 dummies\n",
    "* Neighborhood: 25 dummies\n",
    "* Condition1: 9 dummies\n",
    "* BldgType: 5 dummies\n",
    "* HouseStyle: 8 dummies\n",
    "* RoofStyle: 6 dummies\n",
    "* RoofMatl: 8 dummies\n",
    "* Exterior!st: 17 dummies\n",
    "* MasVnrType: 5 dummies\n",
    "* Foundation: 6 dummies\n",
    "* BsmtExposure: 5 dummies\n",
    "* Heating: 6 dummies\n",
    "* CentralAir: Replace in column with binary\n",
    "* Electrical: 5 dummies\n",
    "* Functional: 8 dummmies\n",
    "* GarageType: 7 dummies\n",
    "* PavedDrive: 3 dummies\n",
    "* MiscFeature: 6 dummies\n",
    "* SaleType: 10 dummies\n",
    "* SaleCondition: 6 dummies\n",
    "\n",
    "## Conversion from categorical to numeric?\n",
    "* ExterQual: Replace with 1-5?\n",
    "* ExterCond: Replace 1-5?\n",
    "* BsmtQual: Replace with values? (maybe)\n",
    "* BsmtCond: Replace ith values 1-5\n",
    "* BsmtFinType1: Replace with 7 levels\n",
    "* HeatingQC: Replace with 5 levels\n",
    "* KitchenQual: Replace with 1-5\n",
    "* FireplaceQu: Replace with 0-5\n",
    "* GarageFinish: 0-3\n",
    "* GarageQual: 0-5\n",
    "* GarageCond: 0-5\n",
    "* PoolQC: 0-4\n",
    "* Fence: 0-4"
   ]
  },
  {
   "cell_type": "markdown",
   "metadata": {},
   "source": [
    "# Dummy Variable Creation and Concatenation"
   ]
  },
  {
   "cell_type": "code",
   "execution_count": 10,
   "metadata": {
    "collapsed": true
   },
   "outputs": [],
   "source": [
    "# Create dummy df of MSSubClass\n",
    "Subclassdum = pd.get_dummies(house['MSSubClass'])\n",
    "\n",
    "# Rename columns \n",
    "Subclassdum.columns = ['MSSub_20','MSSub_30','MSSub_40','MSSub_45','MSSub_50','MSSub_60','MSSub_70','MSSub_75',\n",
    "                      'MSSub_80','MSSub_85','MSSub_90','MSSub_120','MSSub_160','MSSub_180','MSSub_190']\n",
    "\n",
    "# Concatenate dummy variables into main df: house\n",
    "house = pd.concat([house, Subclassdum], axis=1, join='outer')"
   ]
  },
  {
   "cell_type": "code",
   "execution_count": 11,
   "metadata": {
    "collapsed": true
   },
   "outputs": [],
   "source": [
    "# Create dummy df of MSZoning\n",
    "Zoneclassdum = pd.get_dummies(house['MSZoning'])\n",
    "\n",
    "# Rename columns\n",
    "Zoneclassdum.columns = ['MSZon_Commercial','MSZon_Resi_FloatVillage','MSZon_Resi_HighDensity','MSZon_Resi_LowDensity',\n",
    "                        'MSZon_Resi_MedDensity']\n",
    "\n",
    "# Concatenate dummy variables into main df: house\n",
    "house = pd.concat([house, Zoneclassdum], axis=1, join='outer')"
   ]
  },
  {
   "cell_type": "code",
   "execution_count": 12,
   "metadata": {
    "collapsed": true
   },
   "outputs": [],
   "source": [
    "# Create dummies\n",
    "streetdum = pd.get_dummies(house['Street'])\n",
    "\n",
    "# Rename columns\n",
    "streetdum.columns = ['Street_Gravel', 'Street_Paved']\n",
    "\n",
    "# Concatenate dummy variables into main df: house\n",
    "house = pd.concat([house, streetdum], axis=1, join='outer')"
   ]
  },
  {
   "cell_type": "code",
   "execution_count": 13,
   "metadata": {},
   "outputs": [
    {
     "data": {
      "text/html": [
       "<div>\n",
       "<style>\n",
       "    .dataframe thead tr:only-child th {\n",
       "        text-align: right;\n",
       "    }\n",
       "\n",
       "    .dataframe thead th {\n",
       "        text-align: left;\n",
       "    }\n",
       "\n",
       "    .dataframe tbody tr th {\n",
       "        vertical-align: top;\n",
       "    }\n",
       "</style>\n",
       "<table border=\"1\" class=\"dataframe\">\n",
       "  <thead>\n",
       "    <tr style=\"text-align: right;\">\n",
       "      <th></th>\n",
       "      <th>Id</th>\n",
       "      <th>MSSubClass</th>\n",
       "      <th>MSZoning</th>\n",
       "      <th>LotFrontage</th>\n",
       "      <th>LotArea</th>\n",
       "      <th>Street</th>\n",
       "      <th>Alley</th>\n",
       "      <th>LotShape</th>\n",
       "      <th>LandContour</th>\n",
       "      <th>Utilities</th>\n",
       "      <th>...</th>\n",
       "      <th>MSSub_190</th>\n",
       "      <th>MSZon_Commercial</th>\n",
       "      <th>MSZon_Resi_FloatVillage</th>\n",
       "      <th>MSZon_Resi_HighDensity</th>\n",
       "      <th>MSZon_Resi_LowDensity</th>\n",
       "      <th>MSZon_Resi_MedDensity</th>\n",
       "      <th>Street_Gravel</th>\n",
       "      <th>Street_Paved</th>\n",
       "      <th>Alley_Gravel</th>\n",
       "      <th>Alley_Paved</th>\n",
       "    </tr>\n",
       "  </thead>\n",
       "  <tbody>\n",
       "    <tr>\n",
       "      <th>0</th>\n",
       "      <td>1</td>\n",
       "      <td>60</td>\n",
       "      <td>RL</td>\n",
       "      <td>65.0</td>\n",
       "      <td>8450</td>\n",
       "      <td>Pave</td>\n",
       "      <td>NaN</td>\n",
       "      <td>Reg</td>\n",
       "      <td>Lvl</td>\n",
       "      <td>AllPub</td>\n",
       "      <td>...</td>\n",
       "      <td>0</td>\n",
       "      <td>0</td>\n",
       "      <td>0</td>\n",
       "      <td>0</td>\n",
       "      <td>1</td>\n",
       "      <td>0</td>\n",
       "      <td>0</td>\n",
       "      <td>1</td>\n",
       "      <td>0</td>\n",
       "      <td>0</td>\n",
       "    </tr>\n",
       "    <tr>\n",
       "      <th>1</th>\n",
       "      <td>2</td>\n",
       "      <td>20</td>\n",
       "      <td>RL</td>\n",
       "      <td>80.0</td>\n",
       "      <td>9600</td>\n",
       "      <td>Pave</td>\n",
       "      <td>NaN</td>\n",
       "      <td>Reg</td>\n",
       "      <td>Lvl</td>\n",
       "      <td>AllPub</td>\n",
       "      <td>...</td>\n",
       "      <td>0</td>\n",
       "      <td>0</td>\n",
       "      <td>0</td>\n",
       "      <td>0</td>\n",
       "      <td>1</td>\n",
       "      <td>0</td>\n",
       "      <td>0</td>\n",
       "      <td>1</td>\n",
       "      <td>0</td>\n",
       "      <td>0</td>\n",
       "    </tr>\n",
       "    <tr>\n",
       "      <th>2</th>\n",
       "      <td>3</td>\n",
       "      <td>60</td>\n",
       "      <td>RL</td>\n",
       "      <td>68.0</td>\n",
       "      <td>11250</td>\n",
       "      <td>Pave</td>\n",
       "      <td>NaN</td>\n",
       "      <td>IR1</td>\n",
       "      <td>Lvl</td>\n",
       "      <td>AllPub</td>\n",
       "      <td>...</td>\n",
       "      <td>0</td>\n",
       "      <td>0</td>\n",
       "      <td>0</td>\n",
       "      <td>0</td>\n",
       "      <td>1</td>\n",
       "      <td>0</td>\n",
       "      <td>0</td>\n",
       "      <td>1</td>\n",
       "      <td>0</td>\n",
       "      <td>0</td>\n",
       "    </tr>\n",
       "    <tr>\n",
       "      <th>3</th>\n",
       "      <td>4</td>\n",
       "      <td>70</td>\n",
       "      <td>RL</td>\n",
       "      <td>60.0</td>\n",
       "      <td>9550</td>\n",
       "      <td>Pave</td>\n",
       "      <td>NaN</td>\n",
       "      <td>IR1</td>\n",
       "      <td>Lvl</td>\n",
       "      <td>AllPub</td>\n",
       "      <td>...</td>\n",
       "      <td>0</td>\n",
       "      <td>0</td>\n",
       "      <td>0</td>\n",
       "      <td>0</td>\n",
       "      <td>1</td>\n",
       "      <td>0</td>\n",
       "      <td>0</td>\n",
       "      <td>1</td>\n",
       "      <td>0</td>\n",
       "      <td>0</td>\n",
       "    </tr>\n",
       "    <tr>\n",
       "      <th>4</th>\n",
       "      <td>5</td>\n",
       "      <td>60</td>\n",
       "      <td>RL</td>\n",
       "      <td>84.0</td>\n",
       "      <td>14260</td>\n",
       "      <td>Pave</td>\n",
       "      <td>NaN</td>\n",
       "      <td>IR1</td>\n",
       "      <td>Lvl</td>\n",
       "      <td>AllPub</td>\n",
       "      <td>...</td>\n",
       "      <td>0</td>\n",
       "      <td>0</td>\n",
       "      <td>0</td>\n",
       "      <td>0</td>\n",
       "      <td>1</td>\n",
       "      <td>0</td>\n",
       "      <td>0</td>\n",
       "      <td>1</td>\n",
       "      <td>0</td>\n",
       "      <td>0</td>\n",
       "    </tr>\n",
       "  </tbody>\n",
       "</table>\n",
       "<p>5 rows × 105 columns</p>\n",
       "</div>"
      ],
      "text/plain": [
       "   Id  MSSubClass MSZoning  LotFrontage  LotArea Street Alley LotShape  \\\n",
       "0   1          60       RL         65.0     8450   Pave   NaN      Reg   \n",
       "1   2          20       RL         80.0     9600   Pave   NaN      Reg   \n",
       "2   3          60       RL         68.0    11250   Pave   NaN      IR1   \n",
       "3   4          70       RL         60.0     9550   Pave   NaN      IR1   \n",
       "4   5          60       RL         84.0    14260   Pave   NaN      IR1   \n",
       "\n",
       "  LandContour Utilities     ...      MSSub_190 MSZon_Commercial  \\\n",
       "0         Lvl    AllPub     ...              0                0   \n",
       "1         Lvl    AllPub     ...              0                0   \n",
       "2         Lvl    AllPub     ...              0                0   \n",
       "3         Lvl    AllPub     ...              0                0   \n",
       "4         Lvl    AllPub     ...              0                0   \n",
       "\n",
       "  MSZon_Resi_FloatVillage MSZon_Resi_HighDensity MSZon_Resi_LowDensity  \\\n",
       "0                       0                      0                     1   \n",
       "1                       0                      0                     1   \n",
       "2                       0                      0                     1   \n",
       "3                       0                      0                     1   \n",
       "4                       0                      0                     1   \n",
       "\n",
       "  MSZon_Resi_MedDensity Street_Gravel  Street_Paved  Alley_Gravel  Alley_Paved  \n",
       "0                     0             0             1             0            0  \n",
       "1                     0             0             1             0            0  \n",
       "2                     0             0             1             0            0  \n",
       "3                     0             0             1             0            0  \n",
       "4                     0             0             1             0            0  \n",
       "\n",
       "[5 rows x 105 columns]"
      ]
     },
     "execution_count": 13,
     "metadata": {},
     "output_type": "execute_result"
    }
   ],
   "source": [
    "# Create dummies\n",
    "alleydum = pd.get_dummies(house['Alley'])\n",
    "\n",
    "# Rename columns\n",
    "alleydum.columns = ['Alley_Gravel', 'Alley_Paved']\n",
    "\n",
    "# Concatenate dummy variables into main df: house\n",
    "house = pd.concat([house, alleydum], axis=1, join='outer')\n",
    "house.head()"
   ]
  },
  {
   "cell_type": "code",
   "execution_count": 14,
   "metadata": {
    "collapsed": true,
    "scrolled": true
   },
   "outputs": [],
   "source": [
    "# Create dummies\n",
    "lotshapedum = pd.get_dummies(house['LotShape'])\n",
    "\n",
    "# Rename columns\n",
    "lotshapedum.columns = ['LotSha_SlightIrregular','LotSha_ModIrregular','LotSha_Irregular',\n",
    "                       'LotSha_Regular']\n",
    "\n",
    "# Concatenate dummy variables into main df: house\n",
    "house = pd.concat([house, lotshapedum], axis=1, join='outer')"
   ]
  },
  {
   "cell_type": "code",
   "execution_count": 15,
   "metadata": {
    "collapsed": true,
    "scrolled": true
   },
   "outputs": [],
   "source": [
    "# Create dummies\n",
    "contourdum = pd.get_dummies(house['LandContour'])\n",
    "\n",
    "# Rename columns\n",
    "contourdum.columns = ['LContour_Banked','LContour_Hillside','LContour_Depression','LContour_Flat']\n",
    "\n",
    "# Concatenate dummy variables into main df: house\n",
    "house = pd.concat([house, contourdum], axis=1, join='outer')"
   ]
  },
  {
   "cell_type": "code",
   "execution_count": 16,
   "metadata": {
    "collapsed": true,
    "scrolled": true
   },
   "outputs": [],
   "source": [
    "# Create dummies\n",
    "hooddum = pd.get_dummies(house['Neighborhood'])\n",
    "\n",
    "# Rename columns\n",
    "for i in hooddum.columns:\n",
    "    hooddum.rename(columns={i: 'Hood_'+str(i)}, inplace=True)\n",
    "\n",
    "# Concatenate dummy variables into main df: house\n",
    "house = pd.concat([house, hooddum], axis=1, join='outer')"
   ]
  },
  {
   "cell_type": "code",
   "execution_count": 17,
   "metadata": {
    "collapsed": true,
    "scrolled": true
   },
   "outputs": [],
   "source": [
    "# Create dummies\n",
    "condi1dum = pd.get_dummies(house['Condition1'])\n",
    "\n",
    "# Rename columns\n",
    "for i in condi1dum.columns:\n",
    "    condi1dum.rename(columns={i: 'Condi1_'+str(i)}, inplace=True)\n",
    "    \n",
    "# Concatenate dummy variables into main df: house\n",
    "house = pd.concat([house, condi1dum], axis=1, join='outer')"
   ]
  },
  {
   "cell_type": "code",
   "execution_count": 18,
   "metadata": {
    "collapsed": true
   },
   "outputs": [],
   "source": [
    "# Create dummies\n",
    "bldgtypedum = pd.get_dummies(house['BldgType'])\n",
    "\n",
    "# Rename columns\n",
    "bldgtypedum.columns = ['BldgType_1fam','BldgType_2famconv','BldgType_duplex','BldgType_twnhsIns','BldgType_twnhsEnd',]\n",
    "\n",
    "# Concatenate dummy variables into main df: house\n",
    "house = pd.concat([house, bldgtypedum], axis=1, join='outer')"
   ]
  },
  {
   "cell_type": "code",
   "execution_count": 19,
   "metadata": {
    "collapsed": true,
    "scrolled": true
   },
   "outputs": [],
   "source": [
    "# Create dummies\n",
    "houseStyleDum = pd.get_dummies(house['HouseStyle'])\n",
    "\n",
    "# Rename columns\n",
    "for i in houseStyleDum.columns:\n",
    "    houseStyleDum.rename(columns={i: 'HouStyle_'+str(i)}, inplace=True)\n",
    "\n",
    "# Concatenate dummy variables into main df: house\n",
    "house = pd.concat([house, houseStyleDum], axis=1, join='outer')"
   ]
  },
  {
   "cell_type": "code",
   "execution_count": 20,
   "metadata": {
    "collapsed": true
   },
   "outputs": [],
   "source": [
    "# Create dummies\n",
    "roofStyleDum = pd.get_dummies(house['RoofStyle'])\n",
    "\n",
    "# Rename columns\n",
    "for i in roofStyleDum.columns:\n",
    "    roofStyleDum.rename(columns={i: 'RoofStyle_'+str(i)}, inplace=True)\n",
    "\n",
    "# Concatenate dummy variables into main df: house\n",
    "house = pd.concat([house, roofStyleDum], axis=1, join='outer')"
   ]
  },
  {
   "cell_type": "code",
   "execution_count": 21,
   "metadata": {},
   "outputs": [
    {
     "data": {
      "text/html": [
       "<div>\n",
       "<style>\n",
       "    .dataframe thead tr:only-child th {\n",
       "        text-align: right;\n",
       "    }\n",
       "\n",
       "    .dataframe thead th {\n",
       "        text-align: left;\n",
       "    }\n",
       "\n",
       "    .dataframe tbody tr th {\n",
       "        vertical-align: top;\n",
       "    }\n",
       "</style>\n",
       "<table border=\"1\" class=\"dataframe\">\n",
       "  <thead>\n",
       "    <tr style=\"text-align: right;\">\n",
       "      <th></th>\n",
       "      <th>Id</th>\n",
       "      <th>MSSubClass</th>\n",
       "      <th>MSZoning</th>\n",
       "      <th>LotFrontage</th>\n",
       "      <th>LotArea</th>\n",
       "      <th>Street</th>\n",
       "      <th>Alley</th>\n",
       "      <th>LotShape</th>\n",
       "      <th>LandContour</th>\n",
       "      <th>Utilities</th>\n",
       "      <th>...</th>\n",
       "      <th>RoofStyle_Mansard</th>\n",
       "      <th>RoofStyle_Shed</th>\n",
       "      <th>RoofMatl_ClyTile</th>\n",
       "      <th>RoofMatl_CompShg</th>\n",
       "      <th>RoofMatl_Membran</th>\n",
       "      <th>RoofMatl_Metal</th>\n",
       "      <th>RoofMatl_Roll</th>\n",
       "      <th>RoofMatl_Tar&amp;Grv</th>\n",
       "      <th>RoofMatl_WdShake</th>\n",
       "      <th>RoofMatl_WdShngl</th>\n",
       "    </tr>\n",
       "  </thead>\n",
       "  <tbody>\n",
       "    <tr>\n",
       "      <th>0</th>\n",
       "      <td>1</td>\n",
       "      <td>60</td>\n",
       "      <td>RL</td>\n",
       "      <td>65.0</td>\n",
       "      <td>8450</td>\n",
       "      <td>Pave</td>\n",
       "      <td>NaN</td>\n",
       "      <td>Reg</td>\n",
       "      <td>Lvl</td>\n",
       "      <td>AllPub</td>\n",
       "      <td>...</td>\n",
       "      <td>0</td>\n",
       "      <td>0</td>\n",
       "      <td>0</td>\n",
       "      <td>1</td>\n",
       "      <td>0</td>\n",
       "      <td>0</td>\n",
       "      <td>0</td>\n",
       "      <td>0</td>\n",
       "      <td>0</td>\n",
       "      <td>0</td>\n",
       "    </tr>\n",
       "    <tr>\n",
       "      <th>1</th>\n",
       "      <td>2</td>\n",
       "      <td>20</td>\n",
       "      <td>RL</td>\n",
       "      <td>80.0</td>\n",
       "      <td>9600</td>\n",
       "      <td>Pave</td>\n",
       "      <td>NaN</td>\n",
       "      <td>Reg</td>\n",
       "      <td>Lvl</td>\n",
       "      <td>AllPub</td>\n",
       "      <td>...</td>\n",
       "      <td>0</td>\n",
       "      <td>0</td>\n",
       "      <td>0</td>\n",
       "      <td>1</td>\n",
       "      <td>0</td>\n",
       "      <td>0</td>\n",
       "      <td>0</td>\n",
       "      <td>0</td>\n",
       "      <td>0</td>\n",
       "      <td>0</td>\n",
       "    </tr>\n",
       "    <tr>\n",
       "      <th>2</th>\n",
       "      <td>3</td>\n",
       "      <td>60</td>\n",
       "      <td>RL</td>\n",
       "      <td>68.0</td>\n",
       "      <td>11250</td>\n",
       "      <td>Pave</td>\n",
       "      <td>NaN</td>\n",
       "      <td>IR1</td>\n",
       "      <td>Lvl</td>\n",
       "      <td>AllPub</td>\n",
       "      <td>...</td>\n",
       "      <td>0</td>\n",
       "      <td>0</td>\n",
       "      <td>0</td>\n",
       "      <td>1</td>\n",
       "      <td>0</td>\n",
       "      <td>0</td>\n",
       "      <td>0</td>\n",
       "      <td>0</td>\n",
       "      <td>0</td>\n",
       "      <td>0</td>\n",
       "    </tr>\n",
       "    <tr>\n",
       "      <th>3</th>\n",
       "      <td>4</td>\n",
       "      <td>70</td>\n",
       "      <td>RL</td>\n",
       "      <td>60.0</td>\n",
       "      <td>9550</td>\n",
       "      <td>Pave</td>\n",
       "      <td>NaN</td>\n",
       "      <td>IR1</td>\n",
       "      <td>Lvl</td>\n",
       "      <td>AllPub</td>\n",
       "      <td>...</td>\n",
       "      <td>0</td>\n",
       "      <td>0</td>\n",
       "      <td>0</td>\n",
       "      <td>1</td>\n",
       "      <td>0</td>\n",
       "      <td>0</td>\n",
       "      <td>0</td>\n",
       "      <td>0</td>\n",
       "      <td>0</td>\n",
       "      <td>0</td>\n",
       "    </tr>\n",
       "    <tr>\n",
       "      <th>4</th>\n",
       "      <td>5</td>\n",
       "      <td>60</td>\n",
       "      <td>RL</td>\n",
       "      <td>84.0</td>\n",
       "      <td>14260</td>\n",
       "      <td>Pave</td>\n",
       "      <td>NaN</td>\n",
       "      <td>IR1</td>\n",
       "      <td>Lvl</td>\n",
       "      <td>AllPub</td>\n",
       "      <td>...</td>\n",
       "      <td>0</td>\n",
       "      <td>0</td>\n",
       "      <td>0</td>\n",
       "      <td>1</td>\n",
       "      <td>0</td>\n",
       "      <td>0</td>\n",
       "      <td>0</td>\n",
       "      <td>0</td>\n",
       "      <td>0</td>\n",
       "      <td>0</td>\n",
       "    </tr>\n",
       "  </tbody>\n",
       "</table>\n",
       "<p>5 rows × 174 columns</p>\n",
       "</div>"
      ],
      "text/plain": [
       "   Id  MSSubClass MSZoning  LotFrontage  LotArea Street Alley LotShape  \\\n",
       "0   1          60       RL         65.0     8450   Pave   NaN      Reg   \n",
       "1   2          20       RL         80.0     9600   Pave   NaN      Reg   \n",
       "2   3          60       RL         68.0    11250   Pave   NaN      IR1   \n",
       "3   4          70       RL         60.0     9550   Pave   NaN      IR1   \n",
       "4   5          60       RL         84.0    14260   Pave   NaN      IR1   \n",
       "\n",
       "  LandContour Utilities        ...        RoofStyle_Mansard RoofStyle_Shed  \\\n",
       "0         Lvl    AllPub        ...                        0              0   \n",
       "1         Lvl    AllPub        ...                        0              0   \n",
       "2         Lvl    AllPub        ...                        0              0   \n",
       "3         Lvl    AllPub        ...                        0              0   \n",
       "4         Lvl    AllPub        ...                        0              0   \n",
       "\n",
       "  RoofMatl_ClyTile RoofMatl_CompShg RoofMatl_Membran RoofMatl_Metal  \\\n",
       "0                0                1                0              0   \n",
       "1                0                1                0              0   \n",
       "2                0                1                0              0   \n",
       "3                0                1                0              0   \n",
       "4                0                1                0              0   \n",
       "\n",
       "  RoofMatl_Roll  RoofMatl_Tar&Grv  RoofMatl_WdShake  RoofMatl_WdShngl  \n",
       "0             0                 0                 0                 0  \n",
       "1             0                 0                 0                 0  \n",
       "2             0                 0                 0                 0  \n",
       "3             0                 0                 0                 0  \n",
       "4             0                 0                 0                 0  \n",
       "\n",
       "[5 rows x 174 columns]"
      ]
     },
     "execution_count": 21,
     "metadata": {},
     "output_type": "execute_result"
    }
   ],
   "source": [
    "# Create dummies\n",
    "roofMatlDum = pd.get_dummies(house['RoofMatl'])\n",
    "\n",
    "# Rename columns\n",
    "for i in roofMatlDum.columns:\n",
    "    roofMatlDum.rename(columns={i: 'RoofMatl_'+str(i)}, inplace=True)\n",
    "\n",
    "# Concatenate dummy variables into main df: house\n",
    "house = pd.concat([house, roofMatlDum], axis=1, join='outer')\n",
    "house.head()"
   ]
  },
  {
   "cell_type": "code",
   "execution_count": 22,
   "metadata": {
    "collapsed": true
   },
   "outputs": [],
   "source": [
    "# Create dummies\n",
    "ExteriorDum = pd.get_dummies(house['Exterior1st'])\n",
    "\n",
    "# Rename columns\n",
    "for i in ExteriorDum.columns:\n",
    "    ExteriorDum.rename(columns={i: 'Exter1_'+str(i)}, inplace=True)\n",
    "    \n",
    "# Concatenate dummy variables into main df: house\n",
    "house = pd.concat([house, ExteriorDum], axis=1, join='outer')"
   ]
  },
  {
   "cell_type": "code",
   "execution_count": 23,
   "metadata": {
    "collapsed": true
   },
   "outputs": [],
   "source": [
    "# Create dummies\n",
    "MasVnrDum = pd.get_dummies(house['MasVnrType'])\n",
    "\n",
    "# Rename columns\n",
    "for i in MasVnrDum.columns:\n",
    "    MasVnrDum.rename(columns={i: 'MasVnr_'+str(i)}, inplace=True)\n",
    "\n",
    "# Concatenate dummy variables into main df: house\n",
    "house = pd.concat([house, MasVnrDum], axis=1, join='outer')"
   ]
  },
  {
   "cell_type": "code",
   "execution_count": 24,
   "metadata": {
    "collapsed": true
   },
   "outputs": [],
   "source": [
    "# Create dummies\n",
    "foundDum = pd.get_dummies(house['Foundation'])\n",
    "\n",
    "# Rename columns\n",
    "for i in foundDum.columns:\n",
    "    foundDum.rename(columns={i: 'Fndtn_'+str(i)}, inplace=True)\n",
    "    \n",
    "# Concatenate dummy variables into main df: house\n",
    "house = pd.concat([house, foundDum], axis=1, join='outer')"
   ]
  },
  {
   "cell_type": "code",
   "execution_count": 25,
   "metadata": {
    "collapsed": true
   },
   "outputs": [],
   "source": [
    "# Create dummies\n",
    "utilDum = pd.get_dummies(house['Utilities'])\n",
    "\n",
    "# Rename columns\n",
    "utilDum.columns = ['Util_All', 'Util_NoSewa']\n",
    "\n",
    "# Concatenate dummy variables into main df: house\n",
    "house = pd.concat([house, utilDum], axis=1, join='outer')"
   ]
  },
  {
   "cell_type": "code",
   "execution_count": 26,
   "metadata": {
    "collapsed": true
   },
   "outputs": [],
   "source": [
    "# Create dummies\n",
    "heatingDum = pd.get_dummies(house['Heating'])\n",
    "\n",
    "# Rename columns\n",
    "for i in heatingDum.columns:\n",
    "    heatingDum.rename(columns={i: 'Heatg_'+str(i)}, inplace=True)\n",
    "    \n",
    "# Concatenate dummy variables into main df: house\n",
    "house = pd.concat([house, heatingDum], axis=1, join='outer')"
   ]
  },
  {
   "cell_type": "code",
   "execution_count": 27,
   "metadata": {
    "collapsed": true
   },
   "outputs": [],
   "source": [
    "# Create dummies\n",
    "electricDum = pd.get_dummies(house['Electrical'])\n",
    "\n",
    "# Rename columns\n",
    "for i in electricDum.columns:\n",
    "    electricDum.rename(columns={i: 'Elec_'+str(i)}, inplace=True)\n",
    "\n",
    "# Concatenate dummy variables into main df: house\n",
    "house = pd.concat([house, electricDum], axis=1, join='outer')"
   ]
  },
  {
   "cell_type": "code",
   "execution_count": 28,
   "metadata": {
    "collapsed": true
   },
   "outputs": [],
   "source": [
    "# Create dummies\n",
    "functionDum = pd.get_dummies(house['Functional'])\n",
    "\n",
    "# Rename columns\n",
    "for i in functionDum.columns:\n",
    "    functionDum.rename(columns={i: 'Func_'+str(i)}, inplace=True)\n",
    "\n",
    "# Concatenate dummy variables into main df: house\n",
    "house = pd.concat([house, functionDum], axis=1, join='outer')"
   ]
  },
  {
   "cell_type": "code",
   "execution_count": 29,
   "metadata": {
    "collapsed": true
   },
   "outputs": [],
   "source": [
    "# Create dummies\n",
    "garagetypeDum = pd.get_dummies(house['GarageType'])\n",
    "\n",
    "# Rename columns\n",
    "for i in garagetypeDum.columns:\n",
    "    garagetypeDum.rename(columns={i: 'GarType_'+str(i)}, inplace=True)\n",
    "\n",
    "# Concatenate dummy variables into main df: house\n",
    "house = pd.concat([house, garagetypeDum], axis=1, join='outer')"
   ]
  },
  {
   "cell_type": "code",
   "execution_count": 30,
   "metadata": {
    "collapsed": true
   },
   "outputs": [],
   "source": [
    "# Create dummies\n",
    "lotconDum = pd.get_dummies(house['LotConfig'])\n",
    "\n",
    "# Rename columns\n",
    "lotconDum.columns = ['LotCon_Corner','LotCon_CulDSac','LotCon_Front2','LotCon_Front3','LotCon_Inside',]\n",
    "\n",
    "# Concatenate dummy variables into main df: house\n",
    "house = pd.concat([house, lotconDum], axis=1, join='outer')"
   ]
  },
  {
   "cell_type": "code",
   "execution_count": 31,
   "metadata": {
    "collapsed": true
   },
   "outputs": [],
   "source": [
    "# Create dummies\n",
    "pavedDriveDum = pd.get_dummies(house['PavedDrive'])\n",
    "\n",
    "# Rename columns\n",
    "pavedDriveDum.columns = ['Paved_DirtGrav', 'Paved_part', 'Paved_paved']\n",
    "\n",
    "# Concatenate dummy variables into main df: house\n",
    "house = pd.concat([house, pavedDriveDum], axis=1, join='outer')"
   ]
  },
  {
   "cell_type": "code",
   "execution_count": 32,
   "metadata": {
    "collapsed": true
   },
   "outputs": [],
   "source": [
    "# Create dummies\n",
    "miscfeatDum = pd.get_dummies(house['MiscFeature'])\n",
    "\n",
    "# Rename 1 column\n",
    "miscfeatDum.rename(columns={'TenC': 'TenCrt'}, inplace=True)\n",
    "\n",
    "# Rename all by looping and adding suffix\n",
    "for i in miscfeatDum.columns:\n",
    "    miscfeatDum.rename(columns={i: 'MiscFeat_'+str(i)}, inplace=True)\n",
    "\n",
    "# Concatenate dummy variables into main df: house\n",
    "house = pd.concat([house, miscfeatDum], axis=1, join='outer')"
   ]
  },
  {
   "cell_type": "code",
   "execution_count": 33,
   "metadata": {
    "collapsed": true
   },
   "outputs": [],
   "source": [
    "# Get dummies\n",
    "saletypeDum = pd.get_dummies(house['SaleType'])\n",
    "\n",
    "# Rename columns (more descriptive)\n",
    "saletypeDum.columns = ['CrtOficDeedEst', 'CashWarrDeed', 'Con15dpReg', 'ConLwDp','ConLwInt',\n",
    "                      'ConLwdpLwInt','New','Other', 'WarrDeed']\n",
    "# Add prefix to columns\n",
    "for i in saletypeDum.columns:\n",
    "    saletypeDum.rename(columns={i: 'SaleType_'+str(i)}, inplace=True)\n",
    "\n",
    "# Concatenate dummy variables into main df: house\n",
    "house = pd.concat([house, saletypeDum], axis=1, join='outer')"
   ]
  },
  {
   "cell_type": "code",
   "execution_count": 34,
   "metadata": {
    "collapsed": true
   },
   "outputs": [],
   "source": [
    "# Get dummies\n",
    "saleconDum = pd.get_dummies(house['SaleCondition'])\n",
    "\n",
    "# Rename columns\n",
    "for i in saleconDum.columns:\n",
    "    saleconDum.rename(columns={i: 'SaleCond_'+str(i)}, inplace=True)\n",
    "\n",
    "# Concatenate dummy variables into main df: house\n",
    "house = pd.concat([house, saleconDum], axis=1, join='outer')"
   ]
  },
  {
   "cell_type": "markdown",
   "metadata": {},
   "source": [
    "# Converting level based variables to numeric"
   ]
  },
  {
   "cell_type": "code",
   "execution_count": 35,
   "metadata": {
    "collapsed": true,
    "scrolled": true
   },
   "outputs": [],
   "source": [
    "# Map individual columns below to produce numeric values from unicode-based levels\n",
    "house['ExterQual'] = house['ExterQual'].map({'Gd': 4, 'TA': 3, 'Ex': 5, 'Fa': 2})\n",
    "house['ExterCond'] = house['ExterCond'].map({'Gd': 4, 'TA': 3, 'Ex': 5, 'Fa': 2, 'Po': 1})\n",
    "house['BsmtQual'] = house['BsmtQual'].map({'Gd': 4, 'TA': 3, 'Ex': 5, 'Fa': 2, 'Po': 1, np.nan: 0})\n",
    "house['BsmtCond'] = house['BsmtCond'].map({'Gd': 4, 'TA': 3, 'Ex': 5, 'Fa': 2, 'Po': 1, np.nan: 0})\n",
    "house['BsmtFinType1'] = house['BsmtFinType1'].map({'GLQ': 6, 'ALQ': 5, 'BLQ': 4, 'Rec': 3, 'LwQ':2, 'Unf': 1, np.nan: 0})\n",
    "house['HeatingQC'] = house['HeatingQC'].map({'Gd': 4, 'TA': 3, 'Ex': 5, 'Fa': 2, 'Po': 1, np.nan: 0})\n",
    "house['CentralAir'] = house['CentralAir'].map({'Y': 1, 'N': 0})\n",
    "house['KitchenQual'] = house['KitchenQual'].map({'Gd': 4, 'TA': 3, 'Ex': 5, 'Fa': 2, 'Po': 1, np.nan: 0})\n",
    "house['FireplaceQu'] = house['FireplaceQu'].map({'Gd': 4, 'TA': 3, 'Ex': 5, 'Fa': 2, 'Po': 1, np.nan: 0})\n",
    "house['GarageFinish'] = house['GarageFinish'].map({'Fin': 3, 'RFn': 2, 'Unf': 1, np.nan: 0})\n",
    "house['GarageQual'] = house['GarageQual'].map({'Gd': 4, 'TA': 3, 'Ex': 5, 'Fa': 2, 'Po': 1, np.nan: 0})\n",
    "house['GarageCond'] = house['GarageCond'].map({'Gd': 4, 'TA': 3, 'Ex': 5, 'Fa': 2, 'Po': 1, np.nan: 0})\n",
    "house['PoolQC'] = house['PoolQC'].map({'Gd': 4, 'TA': 3, 'Ex': 5, 'Fa': 2, 'Po': 1, np.nan: 0})\n",
    "house['Fence'] = house['Fence'].map({'MnPrv': 3, 'GdWo': 2, 'GdPrv': 4, 'MnWw': 1, np.nan: 0})\n",
    "house['LandSlope'] = house['LandSlope'].map({'Gtl': 1, 'Mod': 2, 'Sev': 3})\n",
    "house['BsmtExposure'] = house['BsmtExposure'].map({'Gd': 3,'Av': 2, 'Mn': 1,'No': 0, np.nan: 0})\n",
    "\n",
    "# Replace null values with 0\n",
    "house['LotFrontage'] = house['LotFrontage'].fillna(value=0)\n",
    "house['Alley'] = house['Alley'].fillna(value=0)\n",
    "house['MasVnrArea'].fillna(value=0, inplace=True)\n",
    "\n",
    "#Replace null garage yr built to that of structure built\n",
    "house['GarageYrBlt'].fillna(value=house['YearBuilt'], inplace=True)"
   ]
  },
  {
   "cell_type": "markdown",
   "metadata": {},
   "source": [
    "# The house Dataframe will be renamed and further split into the required datasets"
   ]
  },
  {
   "cell_type": "code",
   "execution_count": 36,
   "metadata": {
    "collapsed": true
   },
   "outputs": [],
   "source": [
    "# Make a copy of house and assign to df\n",
    "df = house.copy()\n",
    "\n",
    "# Split test and train data by years: pre-2010, 2010\n",
    "test = df[df['YrSold']==2010]\n",
    "train = df[df['YrSold']<2010]\n",
    "\n",
    "# Assign to traindf and testdf a filtered version of test and train data\n",
    "# of only residential properties\n",
    "traindf = train[(train['MSZon_Resi_FloatVillage']==1) | (train['MSZon_Resi_HighDensity']==1) | (train['MSZon_Resi_LowDensity']==1) | (train['MSZon_Resi_MedDensity']==1)]\n",
    "testdf = test[(test['MSZon_Resi_FloatVillage']==1) | (test['MSZon_Resi_HighDensity']==1) | (test['MSZon_Resi_LowDensity']==1) | (test['MSZon_Resi_MedDensity']==1)]"
   ]
  },
  {
   "cell_type": "markdown",
   "metadata": {},
   "source": [
    "## Residential Properties\n",
    "The dataset contains a number of categories of properties within the MSZoning variable. Residential properties start with an R, with options of RH, RL, RP, RM. We will separate those properties considered residential and place them in a separate dataframe"
   ]
  },
  {
   "cell_type": "markdown",
   "metadata": {},
   "source": [
    "# Determination of Predictors\n",
    "## Fixed characteristics\n",
    "The characteristics of a house determined to be fixed will be run through a correlation matrix to determine predictors.\n",
    "\n",
    "\n",
    "### Converted to Dummy Variables\n",
    "* MSSubclass\n",
    "* MSZoning\n",
    "\n",
    "* LotShape\n",
    "* LandContour\n",
    "* Utilities\n",
    "* LotConfig\n",
    "* LandSlope\n",
    "* Neighborhood\n",
    "* Condition1\n",
    "* BldgType\n",
    "* HouseStyle\n",
    "* MasVnrType\n",
    "* Foundation\n",
    "* GarageType\n",
    "\n",
    "\n",
    "\n",
    "### Ordinary Variables\n",
    "* LotArea\n",
    "* LotFrontage\n",
    "* YearBuilt\n",
    "* MasVnrArea\n",
    "* BsmtExposure\n",
    "* TotalBsmtSF\n",
    "* 1stFlrSF\n",
    "* 2ndFlrSF\n",
    "* GrLivArea\n",
    "* BsmtFullBath\n",
    "* BsmtHalfBath\n",
    "* Bedroom\n",
    "* Kitchen\n",
    "* Fireplaces\n",
    "* GarageYrBlt\n",
    "* GarageCars\n",
    "* GarageArea\n",
    "* WoodDeckSF\n",
    "* OpenPorchSF\n",
    "* EnclosedPorch\n",
    "* 3SsnPorch\n",
    "* ScreenPorch\n",
    "* PoolArea\n",
    "\n",
    "\n",
    "\n",
    "\n",
    "## Renovate-able characteristics\n",
    "* OverallQual\n",
    "* OverallCond\n",
    "* ExterQual\n",
    "* ExterCond\n",
    "* BsmtQual\n",
    "* BsmtCond\n",
    "* BsmtFinType1\n",
    "* Heating\n",
    "* HeatingQC\n",
    "* CentralAir\n",
    "* Electrical : Dummy Variables\n",
    "* KitchenQual\n",
    "* Functional :Dummy\n",
    "* FireplaceQu\n",
    "* GarageFinish\n",
    "* GarageQual\n",
    "* GarageCond\n",
    "* PavedDrive : Dummy\n",
    "* PoolQC\n",
    "* Fence\n",
    "* TotRmsAbvGrd\n",
    "* FullBath\n",
    "* HalfBath\n",
    "* RoofStyle\n",
    "* RoofMatl\n",
    "* Exterior1st"
   ]
  },
  {
   "cell_type": "code",
   "execution_count": 50,
   "metadata": {
    "collapsed": true
   },
   "outputs": [],
   "source": [
    "# Initialize training variables\n",
    "fixedX_train = train.loc[:,['MSSub_20', 'MSSub_30', 'MSSub_40', 'MSSub_45', 'MSSub_50', 'MSSub_60', 'MSSub_70', 'MSSub_75',\n",
    "                  'MSSub_80', 'MSSub_85', 'MSSub_90', 'MSSub_120', 'MSSub_160', 'MSSub_180', 'MSSub_190',\n",
    "                  'MSZon_Commercial', 'MSZon_Resi_FloatVillage', 'MSZon_Resi_HighDensity', 'MSZon_Resi_LowDensity',\n",
    "                  'MSZon_Resi_MedDensity','LotSha_SlightIrregular', 'LotSha_ModIrregular', 'LotSha_Irregular',\n",
    "                  'LotSha_Regular','LContour_Banked', 'LContour_Hillside', 'LContour_Depression','LContour_Flat',\n",
    "                  'Util_All', 'Util_NoSewa','LotCon_Corner', 'LotCon_CulDSac', 'LotCon_Front2','LotCon_Front3',\n",
    "                  'LotCon_Inside', 'LandSlope', 'Hood_Blmngtn', 'Hood_Blueste', 'Hood_BrDale', 'Hood_BrkSide',\n",
    "                  'Hood_ClearCr', 'Hood_CollgCr', 'Hood_Crawfor', 'Hood_Edwards','Hood_Gilbert', 'Hood_IDOTRR', \n",
    "                  'Hood_MeadowV', 'Hood_Mitchel','Hood_NAmes', 'Hood_NPkVill', 'Hood_NWAmes', 'Hood_NoRidge',\n",
    "                  'Hood_NridgHt', 'Hood_OldTown', 'Hood_SWISU', 'Hood_Sawyer','Hood_SawyerW', 'Hood_Somerst', 'Hood_StoneBr', \n",
    "                  'Hood_Timber','Hood_Veenker','Condi1_Artery', 'Condi1_Feedr','Condi1_Norm', 'Condi1_PosA', \n",
    "                  'Condi1_PosN', 'Condi1_RRAe','Condi1_RRAn', 'Condi1_RRNe', 'Condi1_RRNn','BldgType_1fam', \n",
    "                  'BldgType_2famconv', 'BldgType_duplex','BldgType_twnhsIns', 'BldgType_twnhsEnd','HouStyle_1.5Fin',\n",
    "                  'HouStyle_1.5Unf','HouStyle_1Story', 'HouStyle_2.5Fin', 'HouStyle_2.5Unf','HouStyle_2Story', \n",
    "                  'HouStyle_SFoyer', 'HouStyle_SLvl', 'MasVnr_BrkCmn', 'MasVnr_BrkFace','MasVnr_None', 'MasVnr_Stone',\n",
    "                  'Fndtn_BrkTil', 'Fndtn_CBlock', 'Fndtn_PConc', 'Fndtn_Slab','Fndtn_Stone', 'Fndtn_Wood',\n",
    "                  'GarType_2Types','GarType_Attchd', 'GarType_Basment', 'GarType_BuiltIn','GarType_CarPort', \n",
    "                  'GarType_Detchd','Street_Gravel','Street_Paved','LotFrontage', 'LotArea','YearBuilt','MasVnrArea',\n",
    "                  'BsmtExposure','TotalBsmtSF','BsmtFullBath', 'BsmtHalfBath','1stFlrSF', '2ndFlrSF','GrLivArea',\n",
    "                  'BedroomAbvGr', 'KitchenAbvGr','Fireplaces','GarageYrBlt','GarageCars','GarageArea','WoodDeckSF',\n",
    "                  'OpenPorchSF', 'EnclosedPorch','3SsnPorch', 'ScreenPorch', 'PoolArea','Alley_Gravel', 'Alley_Paved']]\n",
    "\n",
    "# Initialize y_train\n",
    "y_train=train['SalePrice']"
   ]
  },
  {
   "cell_type": "code",
   "execution_count": 51,
   "metadata": {
    "collapsed": true
   },
   "outputs": [],
   "source": [
    "# Initialize test variables\n",
    "fixedX_test = test.loc[:,['MSSub_20', 'MSSub_30', 'MSSub_40', 'MSSub_45', 'MSSub_50', 'MSSub_60', 'MSSub_70', 'MSSub_75',\n",
    "                  'MSSub_80', 'MSSub_85', 'MSSub_90', 'MSSub_120', 'MSSub_160', 'MSSub_180', 'MSSub_190',\n",
    "                  'MSZon_Commercial', 'MSZon_Resi_FloatVillage', 'MSZon_Resi_HighDensity', 'MSZon_Resi_LowDensity',\n",
    "                  'MSZon_Resi_MedDensity','LotSha_SlightIrregular', 'LotSha_ModIrregular', 'LotSha_Irregular',\n",
    "                  'LotSha_Regular','LContour_Banked', 'LContour_Hillside', 'LContour_Depression','LContour_Flat',\n",
    "                  'Util_All', 'Util_NoSewa','LotCon_Corner', 'LotCon_CulDSac', 'LotCon_Front2','LotCon_Front3',\n",
    "                  'LotCon_Inside', 'LandSlope', 'Hood_Blmngtn', 'Hood_Blueste', 'Hood_BrDale', 'Hood_BrkSide',\n",
    "                  'Hood_ClearCr', 'Hood_CollgCr', 'Hood_Crawfor', 'Hood_Edwards','Hood_Gilbert', 'Hood_IDOTRR', \n",
    "                  'Hood_MeadowV', 'Hood_Mitchel','Hood_NAmes', 'Hood_NPkVill', 'Hood_NWAmes', 'Hood_NoRidge',\n",
    "                  'Hood_NridgHt', 'Hood_OldTown', 'Hood_SWISU', 'Hood_Sawyer','Hood_SawyerW', 'Hood_Somerst', 'Hood_StoneBr', \n",
    "                  'Hood_Timber','Hood_Veenker','Condi1_Artery', 'Condi1_Feedr','Condi1_Norm', 'Condi1_PosA', \n",
    "                  'Condi1_PosN', 'Condi1_RRAe','Condi1_RRAn', 'Condi1_RRNe', 'Condi1_RRNn','BldgType_1fam', \n",
    "                  'BldgType_2famconv', 'BldgType_duplex','BldgType_twnhsIns', 'BldgType_twnhsEnd','HouStyle_1.5Fin',\n",
    "                  'HouStyle_1.5Unf','HouStyle_1Story', 'HouStyle_2.5Fin', 'HouStyle_2.5Unf','HouStyle_2Story', \n",
    "                  'HouStyle_SFoyer', 'HouStyle_SLvl', 'MasVnr_BrkCmn', 'MasVnr_BrkFace','MasVnr_None', 'MasVnr_Stone',\n",
    "                  'Fndtn_BrkTil', 'Fndtn_CBlock', 'Fndtn_PConc', 'Fndtn_Slab','Fndtn_Stone', 'Fndtn_Wood',\n",
    "                  'GarType_2Types','GarType_Attchd', 'GarType_Basment', 'GarType_BuiltIn','GarType_CarPort', \n",
    "                  'GarType_Detchd','Street_Gravel','Street_Paved','LotFrontage', 'LotArea','YearBuilt','MasVnrArea',\n",
    "                  'BsmtExposure','TotalBsmtSF','BsmtFullBath', 'BsmtHalfBath','1stFlrSF', '2ndFlrSF','GrLivArea',\n",
    "                  'BedroomAbvGr', 'KitchenAbvGr','Fireplaces','GarageYrBlt','GarageCars','GarageArea','WoodDeckSF',\n",
    "                  'OpenPorchSF', 'EnclosedPorch','3SsnPorch', 'ScreenPorch', 'PoolArea','Alley_Gravel', 'Alley_Paved']]\n",
    "\n",
    "# Initialize y_test\n",
    "y_test = test['SalePrice']"
   ]
  },
  {
   "cell_type": "code",
   "execution_count": 52,
   "metadata": {
    "collapsed": true
   },
   "outputs": [],
   "source": [
    "# Import packages\n",
    "from sklearn.linear_model import LinearRegression\n",
    "from sklearn.linear_model import Ridge\n",
    "from sklearn.feature_selection import RFE\n",
    "from scipy.stats import zscore\n",
    "\n",
    "# Standardize train and test X\n",
    "standFixed = fixedX_train.apply(zscore, axis=1)\n",
    "standFixed_test = fixedX_test.apply(zscore, axis=1)\n",
    "\n",
    "# Assign model to ridge regression and fit to training data\n",
    "model = Ridge(alpha=3)\n",
    "model.fit(standFixed, y_train)\n",
    "\n",
    "# Fit RFE to current model\n",
    "rfe = RFE(model)\n",
    "rfe = rfe.fit(standFixed, y_train)"
   ]
  },
  {
   "cell_type": "code",
   "execution_count": 53,
   "metadata": {
    "scrolled": false
   },
   "outputs": [
    {
     "name": "stdout",
     "output_type": "stream",
     "text": [
      "[ True False False False  True False  True  True  True False  True False\n",
      "  True False  True  True False False  True False False False False  True\n",
      " False False False  True  True False  True False  True False False False\n",
      "  True False  True False  True False False  True False  True False  True\n",
      "  True False  True False False  True  True  True False False False False\n",
      " False  True  True False False False False False False False False  True\n",
      "  True False False  True False  True False  True False False False  True\n",
      "  True False False  True  True False False  True False  True False False\n",
      " False  True  True False False  True  True  True  True  True  True False\n",
      "  True  True  True  True  True  True False  True False  True  True  True\n",
      "  True  True  True  True  True  True]\n",
      "[ 1 38 13 32  1 63  1  1  1 25  1 39  1 59  1  1 42  8  1 21 60 35 20  1 17\n",
      " 47 22  1  1 14  1 44  1 24 34 26  1  2  1 45  1 51 40  1 41  1 54  1  1  6\n",
      "  1 52 61  1  1  1  9 48 49 33 27  1  1 57 15 11  4 12 18 23 50  1  1 37 29\n",
      "  1 31  1  5  1 36 55 19  1  1  3 58  1  1 53 30  1 16  1 43 28 56  1  1 10\n",
      "  7  1  1  1  1  1  1 64  1  1  1  1  1  1 62  1 46  1  1  1  1  1  1  1  1\n",
      "  1]\n"
     ]
    },
    {
     "data": {
      "text/plain": [
       "array(['MSSub_20', 'MSSub_50', 'MSSub_70', 'MSSub_75', 'MSSub_80',\n",
       "       'MSSub_90', 'MSSub_160', 'MSSub_190', 'MSZon_Commercial',\n",
       "       'MSZon_Resi_LowDensity', 'LotSha_Regular', 'LContour_Flat',\n",
       "       'Util_All', 'LotCon_Corner', 'LotCon_Front2', 'Hood_Blmngtn',\n",
       "       'Hood_BrDale', 'Hood_ClearCr', 'Hood_Edwards', 'Hood_IDOTRR',\n",
       "       'Hood_Mitchel', 'Hood_NAmes', 'Hood_NWAmes', 'Hood_OldTown',\n",
       "       'Hood_SWISU', 'Hood_Sawyer', 'Condi1_Artery', 'Condi1_Feedr',\n",
       "       'BldgType_2famconv', 'BldgType_duplex', 'HouStyle_1.5Fin',\n",
       "       'HouStyle_1Story', 'HouStyle_2.5Unf', 'MasVnr_BrkCmn',\n",
       "       'MasVnr_BrkFace', 'Fndtn_BrkTil', 'Fndtn_CBlock', 'Fndtn_Stone',\n",
       "       'GarType_2Types', 'GarType_CarPort', 'GarType_Detchd',\n",
       "       'LotFrontage', 'LotArea', 'YearBuilt', 'MasVnrArea', 'BsmtExposure',\n",
       "       'TotalBsmtSF', 'BsmtHalfBath', '1stFlrSF', '2ndFlrSF', 'GrLivArea',\n",
       "       'BedroomAbvGr', 'KitchenAbvGr', 'GarageYrBlt', 'GarageArea',\n",
       "       'WoodDeckSF', 'OpenPorchSF', 'EnclosedPorch', '3SsnPorch',\n",
       "       'ScreenPorch', 'PoolArea', 'Alley_Gravel', 'Alley_Paved'], dtype=object)"
      ]
     },
     "execution_count": 53,
     "metadata": {},
     "output_type": "execute_result"
    }
   ],
   "source": [
    "# Print results of RFE\n",
    "print(rfe.support_)\n",
    "print(rfe.ranking_)\n",
    "standFixed.columns[rfe.support_].values"
   ]
  },
  {
   "cell_type": "code",
   "execution_count": 54,
   "metadata": {},
   "outputs": [
    {
     "name": "stdout",
     "output_type": "stream",
     "text": [
      "All scores: [ 0.62879248  0.41551033  0.65223628]\n",
      " Mean:0.565513029677\n"
     ]
    }
   ],
   "source": [
    "# Import score packages\n",
    "from sklearn.model_selection import cross_val_score\n",
    "from sklearn.metrics import mean_squared_error\n",
    "\n",
    "# Calculate cross val score and mean\n",
    "scores = cross_val_score(model,standFixed_test,y=y_test)\n",
    "print('All scores: {}\\n Mean:{}'.format(scores, scores.mean()))"
   ]
  },
  {
   "cell_type": "code",
   "execution_count": 55,
   "metadata": {
    "scrolled": true
   },
   "outputs": [
    {
     "data": {
      "text/plain": [
       "50665.314686735706"
      ]
     },
     "execution_count": 55,
     "metadata": {},
     "output_type": "execute_result"
    }
   ],
   "source": [
    "# Generate predicted value based on model\n",
    "y_pred = model.predict(standFixed_test)\n",
    "\n",
    "# Root mean squared error\n",
    "np.sqrt(mean_squared_error(y_test, y_pred))"
   ]
  },
  {
   "cell_type": "markdown",
   "metadata": {},
   "source": [
    "# Attempt to create an improved model\n",
    "* By removing predictors not included in above returned list from RFE, hope for a better performing model\n",
    "* Score appears to decrease, meaning above model is better. Model above is used."
   ]
  },
  {
   "cell_type": "code",
   "execution_count": 43,
   "metadata": {
    "collapsed": true
   },
   "outputs": [],
   "source": [
    "# Assign reduced number of predictors returned by RFE: Fixedfin_train, Fixedfin_test\n",
    "Fixedfin_train = train.loc[:,['MSSub_20', 'MSSub_50', 'MSSub_70', 'MSSub_75', 'MSSub_80',\n",
    "       'MSSub_90', 'MSSub_160', 'MSSub_190', 'MSZon_Commercial',\n",
    "       'MSZon_Resi_LowDensity', 'LotSha_Regular', 'LContour_Flat',\n",
    "       'Util_All', 'LotCon_Corner', 'LotCon_Front2', 'Hood_Blmngtn',\n",
    "       'Hood_BrDale', 'Hood_ClearCr', 'Hood_Edwards', 'Hood_IDOTRR',\n",
    "       'Hood_Mitchel', 'Hood_NAmes', 'Hood_NWAmes', 'Hood_OldTown',\n",
    "       'Hood_SWISU', 'Hood_Sawyer', 'Condi1_Artery', 'Condi1_Feedr',\n",
    "       'BldgType_2famconv', 'BldgType_duplex', 'HouStyle_1.5Fin',\n",
    "       'HouStyle_1Story', 'HouStyle_2.5Unf', 'MasVnr_BrkCmn',\n",
    "       'MasVnr_BrkFace', 'Fndtn_BrkTil', 'Fndtn_CBlock', 'Fndtn_Stone',\n",
    "       'GarType_2Types', 'GarType_CarPort', 'GarType_Detchd',\n",
    "       'LotFrontage', 'LotArea', 'YearBuilt', 'MasVnrArea', 'BsmtExposure',\n",
    "       'TotalBsmtSF', 'BsmtHalfBath', '1stFlrSF', '2ndFlrSF', 'GrLivArea',\n",
    "       'BedroomAbvGr', 'KitchenAbvGr', 'GarageYrBlt', 'GarageArea',\n",
    "       'WoodDeckSF', 'OpenPorchSF', 'EnclosedPorch', '3SsnPorch',\n",
    "       'ScreenPorch', 'PoolArea', 'Alley_Gravel', 'Alley_Paved']]\n",
    "\n",
    "Fixedfin_test= test.loc[:,['MSSub_20', 'MSSub_50', 'MSSub_70', 'MSSub_75', 'MSSub_80',\n",
    "       'MSSub_90', 'MSSub_160', 'MSSub_190', 'MSZon_Commercial',\n",
    "       'MSZon_Resi_LowDensity', 'LotSha_Regular', 'LContour_Flat',\n",
    "       'Util_All', 'LotCon_Corner', 'LotCon_Front2', 'Hood_Blmngtn',\n",
    "       'Hood_BrDale', 'Hood_ClearCr', 'Hood_Edwards', 'Hood_IDOTRR',\n",
    "       'Hood_Mitchel', 'Hood_NAmes', 'Hood_NWAmes', 'Hood_OldTown',\n",
    "       'Hood_SWISU', 'Hood_Sawyer', 'Condi1_Artery', 'Condi1_Feedr',\n",
    "       'BldgType_2famconv', 'BldgType_duplex', 'HouStyle_1.5Fin',\n",
    "       'HouStyle_1Story', 'HouStyle_2.5Unf', 'MasVnr_BrkCmn',\n",
    "       'MasVnr_BrkFace', 'Fndtn_BrkTil', 'Fndtn_CBlock', 'Fndtn_Stone',\n",
    "       'GarType_2Types', 'GarType_CarPort', 'GarType_Detchd',\n",
    "       'LotFrontage', 'LotArea', 'YearBuilt', 'MasVnrArea', 'BsmtExposure',\n",
    "       'TotalBsmtSF', 'BsmtHalfBath', '1stFlrSF', '2ndFlrSF', 'GrLivArea',\n",
    "       'BedroomAbvGr', 'KitchenAbvGr', 'GarageYrBlt', 'GarageArea',\n",
    "       'WoodDeckSF', 'OpenPorchSF', 'EnclosedPorch', '3SsnPorch',\n",
    "       'ScreenPorch', 'PoolArea', 'Alley_Gravel', 'Alley_Paved']]"
   ]
  },
  {
   "cell_type": "code",
   "execution_count": 44,
   "metadata": {},
   "outputs": [
    {
     "data": {
      "text/plain": [
       "Ridge(alpha=3, copy_X=True, fit_intercept=True, max_iter=None,\n",
       "   normalize=False, random_state=None, solver='auto', tol=0.001)"
      ]
     },
     "execution_count": 44,
     "metadata": {},
     "output_type": "execute_result"
    }
   ],
   "source": [
    "# Standardize new set of predictors\n",
    "standFixed = Fixedfin_train.apply(zscore, axis=1)\n",
    "standFixed_test = Fixedfin_test.apply(zscore, axis=1)\n",
    "\n",
    "# Instantiate model\n",
    "model = Ridge(alpha=3)\n",
    "\n",
    "# Fit model to training data\n",
    "model.fit(standFixed, y_train)"
   ]
  },
  {
   "cell_type": "code",
   "execution_count": 45,
   "metadata": {},
   "outputs": [
    {
     "name": "stdout",
     "output_type": "stream",
     "text": [
      "All scores: [ 0.61968774  0.40891897  0.63597798]\n",
      " Mean:0.554861561447\n"
     ]
    }
   ],
   "source": [
    "# Generate cross val score\n",
    "rfescores = cross_val_score(model,standFixed_test,y=y_test)\n",
    "print('All scores: {}\\n Mean:{}'.format(rfescores, rfescores.mean()))"
   ]
  },
  {
   "cell_type": "code",
   "execution_count": 46,
   "metadata": {},
   "outputs": [
    {
     "data": {
      "text/plain": [
       "50918.32492057811"
      ]
     },
     "execution_count": 46,
     "metadata": {},
     "output_type": "execute_result"
    }
   ],
   "source": [
    "# Generate predicted values\n",
    "y_pred = model.predict(standFixed_test)\n",
    "# Generate RMSE for scoring\n",
    "np.sqrt(mean_squared_error(y_test, y_pred))"
   ]
  },
  {
   "cell_type": "markdown",
   "metadata": {},
   "source": [
    "# Use of GridSearch to improve parameters of model\n",
    "* Results of GridSearch.best_params_ used above"
   ]
  },
  {
   "cell_type": "code",
   "execution_count": 47,
   "metadata": {
    "collapsed": true
   },
   "outputs": [],
   "source": [
    "from sklearn.model_selection import GridSearchCV\n",
    "\n",
    "params = {'alpha': [0.1,0.2,0.4,0.6,0.8,1,3,5,8,10],\n",
    "          'solver': ['auto', 'lsqr', 'sag']\n",
    "    \n",
    "}\n",
    "\n",
    "search = GridSearchCV(model, params, n_jobs=3)"
   ]
  },
  {
   "cell_type": "code",
   "execution_count": 48,
   "metadata": {},
   "outputs": [
    {
     "data": {
      "text/plain": [
       "GridSearchCV(cv=None, error_score='raise',\n",
       "       estimator=Ridge(alpha=3, copy_X=True, fit_intercept=True, max_iter=None,\n",
       "   normalize=False, random_state=None, solver='auto', tol=0.001),\n",
       "       fit_params={}, iid=True, n_jobs=3,\n",
       "       param_grid={'alpha': [0.1, 0.2, 0.4, 0.6, 0.8, 1, 3, 5, 8, 10], 'solver': ['auto', 'lsqr', 'sag']},\n",
       "       pre_dispatch='2*n_jobs', refit=True, return_train_score=True,\n",
       "       scoring=None, verbose=0)"
      ]
     },
     "execution_count": 48,
     "metadata": {},
     "output_type": "execute_result"
    }
   ],
   "source": [
    "search.fit(fixedX_train, y_train)"
   ]
  },
  {
   "cell_type": "code",
   "execution_count": 49,
   "metadata": {},
   "outputs": [
    {
     "name": "stdout",
     "output_type": "stream",
     "text": [
      "{'alpha': 3, 'solver': 'auto'}\n",
      "0.780240218403\n"
     ]
    }
   ],
   "source": [
    "# Print results of Gridsearch for use\n",
    "print(search.best_params_)\n",
    "print(search.best_score_)"
   ]
  },
  {
   "cell_type": "markdown",
   "metadata": {},
   "source": [
    "<img src=\"http://imgur.com/l5NasQj.png\" style=\"float: left; margin: 25px 15px 0px 0px; height: 25px\">\n",
    "\n",
    "## 2. Determine any value of *changeable* property characteristics unexplained by the *fixed* ones.\n",
    "\n",
    "---\n",
    "\n",
    "Now that you have a model that estimates the price of a house based on its static characteristics, we can move forward with part 2 and 3 of the plan: what are the costs/benefits of quality, condition, and renovations?\n",
    "\n",
    "There are two specific requirements for these estimates:\n",
    "1. The estimates of effects must be in terms of dollars added or subtracted from the house value. \n",
    "2. The effects must be on the variance in price remaining from the first model.\n",
    "\n",
    "The residuals from the first model (training and testing) represent the variance in price unexplained by the fixed characteristics. Of that variance in price remaining, how much of it can be explained by the easy-to-change aspects of the property?\n",
    "\n",
    "---\n",
    "\n",
    "**Your goals:**\n",
    "1. Evaluate the effect in dollars of the renovate-able features. \n",
    "- How would your company use this second model and its coefficients to determine whether they should buy a property or not? Explain how the company can use the two models you have built to determine if they can make money. \n",
    "- Investigate how much of the variance in price remaining is explained by these features.\n",
    "- Do you trust your model? Should it be used to evaluate which properties to buy and fix up?"
   ]
  },
  {
   "cell_type": "markdown",
   "metadata": {},
   "source": [
    "# Calculation of y_hat (residuals)"
   ]
  },
  {
   "cell_type": "code",
   "execution_count": 59,
   "metadata": {
    "scrolled": true
   },
   "outputs": [
    {
     "data": {
      "text/plain": [
       "16      -17363.132508\n",
       "24         871.350097\n",
       "26       -2910.293481\n",
       "27       65734.286107\n",
       "33      -38459.242002\n",
       "38      -24841.539262\n",
       "45       52592.610477\n",
       "52      -21394.137086\n",
       "63      -27592.885117\n",
       "66      -70501.611831\n",
       "68       41225.163792\n",
       "73      -21232.470632\n",
       "74      -42273.488269\n",
       "78      -60868.704163\n",
       "98      -37659.173134\n",
       "99       -9315.617620\n",
       "100     -12395.338756\n",
       "101     -19337.395454\n",
       "103       9648.928083\n",
       "109     -65914.475644\n",
       "111      54785.305187\n",
       "118      28319.514883\n",
       "140      -1647.528562\n",
       "142      -9892.051253\n",
       "147      13596.563660\n",
       "157      58861.107105\n",
       "158      38050.109319\n",
       "162       3277.257709\n",
       "171      -6366.815667\n",
       "200     -19484.176681\n",
       "            ...      \n",
       "1247    -28239.389022\n",
       "1250    -10545.863090\n",
       "1267    123234.684987\n",
       "1270     42424.589599\n",
       "1279    -56947.394066\n",
       "1283    -24755.228281\n",
       "1284    -42064.747818\n",
       "1286    -63918.393730\n",
       "1290     -9204.049572\n",
       "1299     -8686.433642\n",
       "1310     97550.635177\n",
       "1313     62729.512563\n",
       "1322     -9484.497532\n",
       "1353     98100.974910\n",
       "1357    -21754.201305\n",
       "1358    -32536.477603\n",
       "1365     28524.996176\n",
       "1369     -1081.811179\n",
       "1380    -47072.740434\n",
       "1385     18023.480683\n",
       "1396    -62565.431361\n",
       "1408    -21004.843679\n",
       "1416    -85735.975527\n",
       "1421     -3066.060021\n",
       "1428     16472.170345\n",
       "1438    -35886.999281\n",
       "1446    -51336.380317\n",
       "1456    -25719.657378\n",
       "1457     45774.142072\n",
       "1458    -11302.389959\n",
       "Name: SalePrice, Length: 175, dtype: float64"
      ]
     },
     "execution_count": 59,
     "metadata": {},
     "output_type": "execute_result"
    }
   ],
   "source": [
    "y_hat = y_test-y_pred\n",
    "y_hat"
   ]
  },
  {
   "cell_type": "code",
   "execution_count": 100,
   "metadata": {},
   "outputs": [
    {
     "data": {
      "text/plain": [
       "(175,)"
      ]
     },
     "execution_count": 100,
     "metadata": {},
     "output_type": "execute_result"
    }
   ],
   "source": [
    "y_test.shape"
   ]
  },
  {
   "cell_type": "code",
   "execution_count": 82,
   "metadata": {
    "collapsed": true
   },
   "outputs": [],
   "source": [
    "residuals = pd.DataFrame(y_hat)\n",
    "residuals.rename(columns={'SalePrice': 'Residuals'}, inplace=True)"
   ]
  },
  {
   "cell_type": "code",
   "execution_count": 98,
   "metadata": {
    "scrolled": true
   },
   "outputs": [
    {
     "data": {
      "text/plain": [
       "(175, 1)"
      ]
     },
     "execution_count": 98,
     "metadata": {},
     "output_type": "execute_result"
    }
   ],
   "source": [
    "residuals.shape"
   ]
  },
  {
   "cell_type": "markdown",
   "metadata": {},
   "source": [
    "# Residual Plot"
   ]
  },
  {
   "cell_type": "code",
   "execution_count": 83,
   "metadata": {},
   "outputs": [
    {
     "data": {
      "text/plain": [
       "<matplotlib.axes._subplots.AxesSubplot at 0x125197950>"
      ]
     },
     "execution_count": 83,
     "metadata": {},
     "output_type": "execute_result"
    },
    {
     "data": {
      "image/png": "[encoded data removed]",
      "text/plain": [
       "<matplotlib.figure.Figure at 0x1251c2f10>"
      ]
     },
     "metadata": {
      "image/png": {
       "height": 249,
       "width": 409
      }
     },
     "output_type": "display_data"
    }
   ],
   "source": [
    "sns.residplot(x=y_pred, y=y_test, data=residuals)"
   ]
  },
  {
   "cell_type": "markdown",
   "metadata": {},
   "source": [
    "# Declare train and test variables"
   ]
  },
  {
   "cell_type": "code",
   "execution_count": 101,
   "metadata": {
    "collapsed": true
   },
   "outputs": [],
   "source": [
    "# Assign renovatable characteristics to renoX_train and renoX_test\n",
    "renoX_train = train.loc[:,['OverallQual', 'OverallCond','FireplaceQu','GarageFinish','GarageQual', 'GarageCond', 'PoolQC',\n",
    "                         'ExterQual', 'ExterCond','BsmtQual', 'BsmtCond','BsmtFinType1','Heatg_Floor', 'Heatg_GasA', \n",
    "                         'Heatg_GasW', 'Heatg_Grav','Heatg_OthW', 'Heatg_Wall','HeatingQC','CentralAir', 'Elec_FuseA',\n",
    "                         'Elec_FuseF', 'Elec_FuseP', 'Elec_Mix','Elec_SBrkr','KitchenQual', 'Func_Maj1', 'Func_Maj2', \n",
    "                         'Func_Min1', 'Func_Min2','Func_Mod', 'Func_Sev', 'Func_Typ','Paved_DirtGrav','Paved_part', \n",
    "                         'Paved_paved', 'Fence', 'TotRmsAbvGrd','FullBath', 'HalfBath','RoofStyle_Flat', \n",
    "                         'RoofStyle_Gable','RoofStyle_Gambrel', 'RoofStyle_Hip', 'RoofStyle_Mansard','RoofStyle_Shed',\n",
    "                         'RoofMatl_ClyTile', 'RoofMatl_CompShg','RoofMatl_Membran', 'RoofMatl_Metal', 'RoofMatl_Roll',\n",
    "                         'RoofMatl_Tar&Grv', 'RoofMatl_WdShake', 'RoofMatl_WdShngl','Exter1_AsbShng', 'Exter1_AsphShn',\n",
    "                         'Exter1_BrkComm','Exter1_BrkFace', 'Exter1_CBlock','Exter1_CemntBd','Exter1_HdBoard', \n",
    "                         'Exter1_ImStucc', 'Exter1_MetalSd','Exter1_Plywood', 'Exter1_Stone', 'Exter1_Stucco', \n",
    "                         'Exter1_VinylSd','Exter1_Wd Sdng', 'Exter1_WdShing']]\n",
    "\n",
    "renoX_test = test.loc[:,['OverallQual', 'OverallCond','FireplaceQu','GarageFinish','GarageQual', 'GarageCond', 'PoolQC',\n",
    "                         'ExterQual', 'ExterCond','BsmtQual', 'BsmtCond','BsmtFinType1','Heatg_Floor', 'Heatg_GasA', \n",
    "                         'Heatg_GasW', 'Heatg_Grav','Heatg_OthW', 'Heatg_Wall','HeatingQC','CentralAir', 'Elec_FuseA',\n",
    "                         'Elec_FuseF', 'Elec_FuseP', 'Elec_Mix','Elec_SBrkr','KitchenQual', 'Func_Maj1', 'Func_Maj2', \n",
    "                         'Func_Min1', 'Func_Min2','Func_Mod', 'Func_Sev', 'Func_Typ','Paved_DirtGrav','Paved_part', \n",
    "                         'Paved_paved', 'Fence', 'TotRmsAbvGrd','FullBath', 'HalfBath','RoofStyle_Flat', \n",
    "                         'RoofStyle_Gable','RoofStyle_Gambrel', 'RoofStyle_Hip', 'RoofStyle_Mansard','RoofStyle_Shed',\n",
    "                         'RoofMatl_ClyTile', 'RoofMatl_CompShg','RoofMatl_Membran', 'RoofMatl_Metal', 'RoofMatl_Roll',\n",
    "                         'RoofMatl_Tar&Grv', 'RoofMatl_WdShake', 'RoofMatl_WdShngl','Exter1_AsbShng', 'Exter1_AsphShn',\n",
    "                         'Exter1_BrkComm','Exter1_BrkFace', 'Exter1_CBlock','Exter1_CemntBd','Exter1_HdBoard', \n",
    "                         'Exter1_ImStucc', 'Exter1_MetalSd','Exter1_Plywood', 'Exter1_Stone', 'Exter1_Stucco', \n",
    "                         'Exter1_VinylSd','Exter1_Wd Sdng', 'Exter1_WdShing']]\n",
    "\n",
    "renoY_train = train.loc[:, ['SalePrice']]\n",
    "\n",
    "renoY_test = residuals['Residuals']"
   ]
  },
  {
   "cell_type": "code",
   "execution_count": 102,
   "metadata": {},
   "outputs": [
    {
     "data": {
      "text/plain": [
       "Ridge(alpha=3, copy_X=True, fit_intercept=True, max_iter=None,\n",
       "   normalize=False, random_state=None, solver='auto', tol=0.001)"
      ]
     },
     "execution_count": 102,
     "metadata": {},
     "output_type": "execute_result"
    }
   ],
   "source": [
    "model.fit(renoX_train, renoY_train)"
   ]
  },
  {
   "cell_type": "code",
   "execution_count": 108,
   "metadata": {},
   "outputs": [
    {
     "name": "stdout",
     "output_type": "stream",
     "text": [
      "Score of model predicting residuals:\n",
      "Scores: [-0.08683367  0.28674918  0.53175866]\n",
      "Mean: 0.243891388477\n"
     ]
    }
   ],
   "source": [
    "y_pred = model.predict(renoX_test)\n",
    "\n",
    "resiscore = cross_val_score(model, renoX_test, y=renoY_test)\n",
    "\n",
    "print('Score of model predicting residuals:\\nScores: {}\\nMean: {}'.format(resiscore, resiscore.mean()))"
   ]
  },
  {
   "cell_type": "markdown",
   "metadata": {},
   "source": [
    "# Model Built to Account for Residuals\n",
    "### Goal was to build a model based on renovatable features to predict whether residuals (errors) of previous model can be accounted for\n",
    "\n",
    "* Model's score (above) is quite low with a mean of 24%. ie) 24% of the residuals can be explained by this model\n",
    "* This indicates that previous residuals were NOT irreducible, and a more accurate model is possible. However, due to the requirements of splitting characteristics by fixed and renovatable, we are unable to use all variables in a single model.\n",
    "\n"
   ]
  },
  {
   "cell_type": "markdown",
   "metadata": {},
   "source": [
    "# Determining Dollar Value\n",
    "* We only have access to the dollar value of misc features\n",
    "* They are grouped below and presented with the mean of their values"
   ]
  },
  {
   "cell_type": "code",
   "execution_count": 141,
   "metadata": {
    "scrolled": true
   },
   "outputs": [
    {
     "data": {
      "text/plain": [
       "MiscFeature\n",
       "Gar2     2\n",
       "Othr     2\n",
       "Shed    49\n",
       "TenC     1\n",
       "Name: MiscVal, dtype: int64"
      ]
     },
     "execution_count": 141,
     "metadata": {},
     "output_type": "execute_result"
    }
   ],
   "source": [
    "df.groupby('MiscFeature')['MiscVal'].count()"
   ]
  },
  {
   "cell_type": "code",
   "execution_count": 140,
   "metadata": {
    "scrolled": true
   },
   "outputs": [
    {
     "data": {
      "text/plain": [
       "MiscFeature\n",
       "Gar2    11900.000000\n",
       "Othr     1750.000000\n",
       "Shed      697.836735\n",
       "TenC     2000.000000\n",
       "Name: MiscVal, dtype: float64"
      ]
     },
     "execution_count": 140,
     "metadata": {},
     "output_type": "execute_result"
    }
   ],
   "source": [
    "df.groupby('MiscFeature')['MiscVal'].mean()"
   ]
  },
  {
   "cell_type": "code",
   "execution_count": 147,
   "metadata": {},
   "outputs": [
    {
     "data": {
      "text/html": [
       "<div>\n",
       "<style>\n",
       "    .dataframe thead tr:only-child th {\n",
       "        text-align: right;\n",
       "    }\n",
       "\n",
       "    .dataframe thead th {\n",
       "        text-align: left;\n",
       "    }\n",
       "\n",
       "    .dataframe tbody tr th {\n",
       "        vertical-align: top;\n",
       "    }\n",
       "</style>\n",
       "<table border=\"1\" class=\"dataframe\">\n",
       "  <thead>\n",
       "    <tr style=\"text-align: right;\">\n",
       "      <th></th>\n",
       "      <th>MiscFeature</th>\n",
       "      <th>MiscVal</th>\n",
       "    </tr>\n",
       "  </thead>\n",
       "  <tbody>\n",
       "    <tr>\n",
       "      <th>705</th>\n",
       "      <td>Othr</td>\n",
       "      <td>3500</td>\n",
       "    </tr>\n",
       "    <tr>\n",
       "      <th>873</th>\n",
       "      <td>Othr</td>\n",
       "      <td>0</td>\n",
       "    </tr>\n",
       "  </tbody>\n",
       "</table>\n",
       "</div>"
      ],
      "text/plain": [
       "    MiscFeature  MiscVal\n",
       "705        Othr     3500\n",
       "873        Othr        0"
      ]
     },
     "execution_count": 147,
     "metadata": {},
     "output_type": "execute_result"
    }
   ],
   "source": [
    "df[['MiscFeature','MiscVal']][df['MiscFeature']=='Othr']"
   ]
  },
  {
   "cell_type": "markdown",
   "metadata": {},
   "source": [
    "# Miscellaneous Value\n",
    "* Garage 2 is seen as the most valuable, with a value of \\$11,900\n",
    "* Tennis court is valued at approx. \\$2000 (Only one case)\n",
    "* Shed is approximately valued at \\$698.00\n",
    "* Others have 2 values, with one at \\$3500 and the other at \\$0"
   ]
  },
  {
   "cell_type": "code",
   "execution_count": 128,
   "metadata": {
    "collapsed": true
   },
   "outputs": [],
   "source": [
    "featcoefs = pd.DataFrame({'Features': renoX_train.columns.values, 'Coefs': [i for x in model.coef_ for i in x]}).sort_values(by='Coefs', ascending=False)"
   ]
  },
  {
   "cell_type": "code",
   "execution_count": 154,
   "metadata": {
    "scrolled": true
   },
   "outputs": [
    {
     "data": {
      "text/html": [
       "<div>\n",
       "<style>\n",
       "    .dataframe thead tr:only-child th {\n",
       "        text-align: right;\n",
       "    }\n",
       "\n",
       "    .dataframe thead th {\n",
       "        text-align: left;\n",
       "    }\n",
       "\n",
       "    .dataframe tbody tr th {\n",
       "        vertical-align: top;\n",
       "    }\n",
       "</style>\n",
       "<table border=\"1\" class=\"dataframe\">\n",
       "  <thead>\n",
       "    <tr style=\"text-align: right;\">\n",
       "      <th></th>\n",
       "      <th>Features</th>\n",
       "      <th>Coefs</th>\n",
       "    </tr>\n",
       "  </thead>\n",
       "  <tbody>\n",
       "    <tr>\n",
       "      <th>53</th>\n",
       "      <td>RoofMatl_WdShngl</td>\n",
       "      <td>79934.186433</td>\n",
       "    </tr>\n",
       "    <tr>\n",
       "      <th>40</th>\n",
       "      <td>RoofStyle_Flat</td>\n",
       "      <td>22753.637184</td>\n",
       "    </tr>\n",
       "    <tr>\n",
       "      <th>0</th>\n",
       "      <td>OverallQual</td>\n",
       "      <td>16515.471517</td>\n",
       "    </tr>\n",
       "    <tr>\n",
       "      <th>9</th>\n",
       "      <td>BsmtQual</td>\n",
       "      <td>15494.570539</td>\n",
       "    </tr>\n",
       "    <tr>\n",
       "      <th>57</th>\n",
       "      <td>Exter1_BrkFace</td>\n",
       "      <td>14966.869051</td>\n",
       "    </tr>\n",
       "    <tr>\n",
       "      <th>29</th>\n",
       "      <td>Func_Min2</td>\n",
       "      <td>14338.649172</td>\n",
       "    </tr>\n",
       "    <tr>\n",
       "      <th>7</th>\n",
       "      <td>ExterQual</td>\n",
       "      <td>14321.235413</td>\n",
       "    </tr>\n",
       "    <tr>\n",
       "      <th>25</th>\n",
       "      <td>KitchenQual</td>\n",
       "      <td>13172.198292</td>\n",
       "    </tr>\n",
       "    <tr>\n",
       "      <th>6</th>\n",
       "      <td>PoolQC</td>\n",
       "      <td>12166.696221</td>\n",
       "    </tr>\n",
       "    <tr>\n",
       "      <th>48</th>\n",
       "      <td>RoofMatl_Membran</td>\n",
       "      <td>11475.441199</td>\n",
       "    </tr>\n",
       "    <tr>\n",
       "      <th>38</th>\n",
       "      <td>FullBath</td>\n",
       "      <td>10719.326048</td>\n",
       "    </tr>\n",
       "    <tr>\n",
       "      <th>37</th>\n",
       "      <td>TotRmsAbvGrd</td>\n",
       "      <td>10449.661575</td>\n",
       "    </tr>\n",
       "    <tr>\n",
       "      <th>15</th>\n",
       "      <td>Heatg_Grav</td>\n",
       "      <td>10015.952133</td>\n",
       "    </tr>\n",
       "    <tr>\n",
       "      <th>32</th>\n",
       "      <td>Func_Typ</td>\n",
       "      <td>9212.726645</td>\n",
       "    </tr>\n",
       "    <tr>\n",
       "      <th>61</th>\n",
       "      <td>Exter1_ImStucc</td>\n",
       "      <td>7839.994294</td>\n",
       "    </tr>\n",
       "    <tr>\n",
       "      <th>14</th>\n",
       "      <td>Heatg_GasW</td>\n",
       "      <td>6745.816961</td>\n",
       "    </tr>\n",
       "    <tr>\n",
       "      <th>43</th>\n",
       "      <td>RoofStyle_Hip</td>\n",
       "      <td>6369.500358</td>\n",
       "    </tr>\n",
       "    <tr>\n",
       "      <th>17</th>\n",
       "      <td>Heatg_Wall</td>\n",
       "      <td>5852.155968</td>\n",
       "    </tr>\n",
       "    <tr>\n",
       "      <th>19</th>\n",
       "      <td>CentralAir</td>\n",
       "      <td>5641.193914</td>\n",
       "    </tr>\n",
       "    <tr>\n",
       "      <th>44</th>\n",
       "      <td>RoofStyle_Mansard</td>\n",
       "      <td>5404.762821</td>\n",
       "    </tr>\n",
       "    <tr>\n",
       "      <th>54</th>\n",
       "      <td>Exter1_AsbShng</td>\n",
       "      <td>5262.515030</td>\n",
       "    </tr>\n",
       "    <tr>\n",
       "      <th>11</th>\n",
       "      <td>BsmtFinType1</td>\n",
       "      <td>4651.506587</td>\n",
       "    </tr>\n",
       "    <tr>\n",
       "      <th>2</th>\n",
       "      <td>FireplaceQu</td>\n",
       "      <td>4623.532159</td>\n",
       "    </tr>\n",
       "    <tr>\n",
       "      <th>12</th>\n",
       "      <td>Heatg_Floor</td>\n",
       "      <td>4584.691223</td>\n",
       "    </tr>\n",
       "    <tr>\n",
       "      <th>28</th>\n",
       "      <td>Func_Min1</td>\n",
       "      <td>4261.674467</td>\n",
       "    </tr>\n",
       "    <tr>\n",
       "      <th>39</th>\n",
       "      <td>HalfBath</td>\n",
       "      <td>4261.515910</td>\n",
       "    </tr>\n",
       "    <tr>\n",
       "      <th>30</th>\n",
       "      <td>Func_Mod</td>\n",
       "      <td>4106.458119</td>\n",
       "    </tr>\n",
       "    <tr>\n",
       "      <th>64</th>\n",
       "      <td>Exter1_Stone</td>\n",
       "      <td>4071.902035</td>\n",
       "    </tr>\n",
       "    <tr>\n",
       "      <th>22</th>\n",
       "      <td>Elec_FuseP</td>\n",
       "      <td>4038.146853</td>\n",
       "    </tr>\n",
       "    <tr>\n",
       "      <th>4</th>\n",
       "      <td>GarageQual</td>\n",
       "      <td>3977.130826</td>\n",
       "    </tr>\n",
       "    <tr>\n",
       "      <th>...</th>\n",
       "      <td>...</td>\n",
       "      <td>...</td>\n",
       "    </tr>\n",
       "    <tr>\n",
       "      <th>59</th>\n",
       "      <td>Exter1_CemntBd</td>\n",
       "      <td>306.437276</td>\n",
       "    </tr>\n",
       "    <tr>\n",
       "      <th>55</th>\n",
       "      <td>Exter1_AsphShn</td>\n",
       "      <td>0.000000</td>\n",
       "    </tr>\n",
       "    <tr>\n",
       "      <th>63</th>\n",
       "      <td>Exter1_Plywood</td>\n",
       "      <td>-60.320485</td>\n",
       "    </tr>\n",
       "    <tr>\n",
       "      <th>36</th>\n",
       "      <td>Fence</td>\n",
       "      <td>-689.568562</td>\n",
       "    </tr>\n",
       "    <tr>\n",
       "      <th>62</th>\n",
       "      <td>Exter1_MetalSd</td>\n",
       "      <td>-707.751593</td>\n",
       "    </tr>\n",
       "    <tr>\n",
       "      <th>56</th>\n",
       "      <td>Exter1_BrkComm</td>\n",
       "      <td>-976.749692</td>\n",
       "    </tr>\n",
       "    <tr>\n",
       "      <th>67</th>\n",
       "      <td>Exter1_Wd Sdng</td>\n",
       "      <td>-1569.026708</td>\n",
       "    </tr>\n",
       "    <tr>\n",
       "      <th>33</th>\n",
       "      <td>Paved_DirtGrav</td>\n",
       "      <td>-1878.330854</td>\n",
       "    </tr>\n",
       "    <tr>\n",
       "      <th>34</th>\n",
       "      <td>Paved_part</td>\n",
       "      <td>-2009.451746</td>\n",
       "    </tr>\n",
       "    <tr>\n",
       "      <th>8</th>\n",
       "      <td>ExterCond</td>\n",
       "      <td>-2281.883086</td>\n",
       "    </tr>\n",
       "    <tr>\n",
       "      <th>5</th>\n",
       "      <td>GarageCond</td>\n",
       "      <td>-2475.131726</td>\n",
       "    </tr>\n",
       "    <tr>\n",
       "      <th>66</th>\n",
       "      <td>Exter1_VinylSd</td>\n",
       "      <td>-3482.715398</td>\n",
       "    </tr>\n",
       "    <tr>\n",
       "      <th>24</th>\n",
       "      <td>Elec_SBrkr</td>\n",
       "      <td>-3599.879514</td>\n",
       "    </tr>\n",
       "    <tr>\n",
       "      <th>60</th>\n",
       "      <td>Exter1_HdBoard</td>\n",
       "      <td>-3857.400272</td>\n",
       "    </tr>\n",
       "    <tr>\n",
       "      <th>13</th>\n",
       "      <td>Heatg_GasA</td>\n",
       "      <td>-3872.626194</td>\n",
       "    </tr>\n",
       "    <tr>\n",
       "      <th>23</th>\n",
       "      <td>Elec_Mix</td>\n",
       "      <td>-4293.608284</td>\n",
       "    </tr>\n",
       "    <tr>\n",
       "      <th>51</th>\n",
       "      <td>RoofMatl_Tar&amp;Grv</td>\n",
       "      <td>-5420.484531</td>\n",
       "    </tr>\n",
       "    <tr>\n",
       "      <th>27</th>\n",
       "      <td>Func_Maj2</td>\n",
       "      <td>-7123.590790</td>\n",
       "    </tr>\n",
       "    <tr>\n",
       "      <th>52</th>\n",
       "      <td>RoofMatl_WdShake</td>\n",
       "      <td>-8489.962330</td>\n",
       "    </tr>\n",
       "    <tr>\n",
       "      <th>41</th>\n",
       "      <td>RoofStyle_Gable</td>\n",
       "      <td>-9633.016589</td>\n",
       "    </tr>\n",
       "    <tr>\n",
       "      <th>50</th>\n",
       "      <td>RoofMatl_Roll</td>\n",
       "      <td>-10070.223614</td>\n",
       "    </tr>\n",
       "    <tr>\n",
       "      <th>68</th>\n",
       "      <td>Exter1_WdShing</td>\n",
       "      <td>-10609.752544</td>\n",
       "    </tr>\n",
       "    <tr>\n",
       "      <th>42</th>\n",
       "      <td>RoofStyle_Gambrel</td>\n",
       "      <td>-10780.077156</td>\n",
       "    </tr>\n",
       "    <tr>\n",
       "      <th>26</th>\n",
       "      <td>Func_Maj1</td>\n",
       "      <td>-11408.668025</td>\n",
       "    </tr>\n",
       "    <tr>\n",
       "      <th>65</th>\n",
       "      <td>Exter1_Stucco</td>\n",
       "      <td>-11927.302465</td>\n",
       "    </tr>\n",
       "    <tr>\n",
       "      <th>31</th>\n",
       "      <td>Func_Sev</td>\n",
       "      <td>-13387.249588</td>\n",
       "    </tr>\n",
       "    <tr>\n",
       "      <th>10</th>\n",
       "      <td>BsmtCond</td>\n",
       "      <td>-13533.760922</td>\n",
       "    </tr>\n",
       "    <tr>\n",
       "      <th>45</th>\n",
       "      <td>RoofStyle_Shed</td>\n",
       "      <td>-14114.806618</td>\n",
       "    </tr>\n",
       "    <tr>\n",
       "      <th>16</th>\n",
       "      <td>Heatg_OthW</td>\n",
       "      <td>-23325.990092</td>\n",
       "    </tr>\n",
       "    <tr>\n",
       "      <th>46</th>\n",
       "      <td>RoofMatl_ClyTile</td>\n",
       "      <td>-72501.604233</td>\n",
       "    </tr>\n",
       "  </tbody>\n",
       "</table>\n",
       "<p>69 rows × 2 columns</p>\n",
       "</div>"
      ],
      "text/plain": [
       "             Features         Coefs\n",
       "53   RoofMatl_WdShngl  79934.186433\n",
       "40     RoofStyle_Flat  22753.637184\n",
       "0         OverallQual  16515.471517\n",
       "9            BsmtQual  15494.570539\n",
       "57     Exter1_BrkFace  14966.869051\n",
       "29          Func_Min2  14338.649172\n",
       "7           ExterQual  14321.235413\n",
       "25        KitchenQual  13172.198292\n",
       "6              PoolQC  12166.696221\n",
       "48   RoofMatl_Membran  11475.441199\n",
       "38           FullBath  10719.326048\n",
       "37       TotRmsAbvGrd  10449.661575\n",
       "15         Heatg_Grav  10015.952133\n",
       "32           Func_Typ   9212.726645\n",
       "61     Exter1_ImStucc   7839.994294\n",
       "14         Heatg_GasW   6745.816961\n",
       "43      RoofStyle_Hip   6369.500358\n",
       "17         Heatg_Wall   5852.155968\n",
       "19         CentralAir   5641.193914\n",
       "44  RoofStyle_Mansard   5404.762821\n",
       "54     Exter1_AsbShng   5262.515030\n",
       "11       BsmtFinType1   4651.506587\n",
       "2         FireplaceQu   4623.532159\n",
       "12        Heatg_Floor   4584.691223\n",
       "28          Func_Min1   4261.674467\n",
       "39           HalfBath   4261.515910\n",
       "30           Func_Mod   4106.458119\n",
       "64       Exter1_Stone   4071.902035\n",
       "22         Elec_FuseP   4038.146853\n",
       "4          GarageQual   3977.130826\n",
       "..                ...           ...\n",
       "59     Exter1_CemntBd    306.437276\n",
       "55     Exter1_AsphShn      0.000000\n",
       "63     Exter1_Plywood    -60.320485\n",
       "36              Fence   -689.568562\n",
       "62     Exter1_MetalSd   -707.751593\n",
       "56     Exter1_BrkComm   -976.749692\n",
       "67     Exter1_Wd Sdng  -1569.026708\n",
       "33     Paved_DirtGrav  -1878.330854\n",
       "34         Paved_part  -2009.451746\n",
       "8           ExterCond  -2281.883086\n",
       "5          GarageCond  -2475.131726\n",
       "66     Exter1_VinylSd  -3482.715398\n",
       "24         Elec_SBrkr  -3599.879514\n",
       "60     Exter1_HdBoard  -3857.400272\n",
       "13         Heatg_GasA  -3872.626194\n",
       "23           Elec_Mix  -4293.608284\n",
       "51   RoofMatl_Tar&Grv  -5420.484531\n",
       "27          Func_Maj2  -7123.590790\n",
       "52   RoofMatl_WdShake  -8489.962330\n",
       "41    RoofStyle_Gable  -9633.016589\n",
       "50      RoofMatl_Roll -10070.223614\n",
       "68     Exter1_WdShing -10609.752544\n",
       "42  RoofStyle_Gambrel -10780.077156\n",
       "26          Func_Maj1 -11408.668025\n",
       "65      Exter1_Stucco -11927.302465\n",
       "31           Func_Sev -13387.249588\n",
       "10           BsmtCond -13533.760922\n",
       "45     RoofStyle_Shed -14114.806618\n",
       "16         Heatg_OthW -23325.990092\n",
       "46   RoofMatl_ClyTile -72501.604233\n",
       "\n",
       "[69 rows x 2 columns]"
      ]
     },
     "execution_count": 154,
     "metadata": {},
     "output_type": "execute_result"
    }
   ],
   "source": [
    "featcoefs = featcoefs[['Features', 'Coefs']]\n",
    "featcoefs"
   ]
  },
  {
   "cell_type": "markdown",
   "metadata": {},
   "source": [
    "# How to use Model"
   ]
  },
  {
   "cell_type": "markdown",
   "metadata": {},
   "source": [
    "1. When purchasing a house, first check to see if any renovatable features are available.\n",
    "2. Compare these features to the Features/Coefs table above to see rank of impact on SalePrice according to the model\n",
    "3. Items higher on the list will generally provide a higher return on investment, whereas lower ones provide lower returns for the renovated feature\n",
    "4. If the renovated item is a second garage, a tennis court or a shed, observe the value found above, and ensure not to go over the value as it's likely that you will not receive a greater return on investment\n",
    "5. As an extremely general rule of thumb, limit expenditure on renovations by item to $3500, as for renovations categorised as 'other' (vague), seem to be valued as such"
   ]
  },
  {
   "cell_type": "markdown",
   "metadata": {},
   "source": [
    "# Model Evaluation\n",
    "Overall, the model of fixed characteristics explains 56.5% of the results, and the renovated characteristic model explains 24.4% of the residuals of the first model.  This is not a very accurate and well-performing model.\n",
    "\n",
    "As such, I would recommend further due diligence before committing to the purchase and renovation of a house."
   ]
  },
  {
   "cell_type": "markdown",
   "metadata": {},
   "source": [
    "<img src=\"http://imgur.com/GCAf1UX.png\" style=\"float: left; margin: 25px 15px 0px 0px; height: 25px\">\n",
    "\n",
    "## 3. What property characteristics predict an \"abnormal\" sale?\n",
    "\n",
    "---\n",
    "\n",
    "The `SaleCondition` feature indicates the circumstances of the house sale. From the data file, we can see that the possibilities are:\n",
    "\n",
    "       Normal\tNormal Sale\n",
    "       Abnorml\tAbnormal Sale -  trade, foreclosure, short sale\n",
    "       AdjLand\tAdjoining Land Purchase\n",
    "       Alloca\tAllocation - two linked properties with separate deeds, typically condo with a garage unit\t\n",
    "       Family\tSale between family members\n",
    "       Partial\tHome was not completed when last assessed (associated with New Homes)\n",
    "       \n",
    "One of the executives at your company has an \"in\" with higher-ups at the major regional bank. His friends at the bank have made him a proposal: if he can reliably indicate what features, if any, predict \"abnormal\" sales (foreclosures, short sales, etc.), then in return the bank will give him first dibs on the pre-auction purchase of those properties (at a dirt-cheap price).\n",
    "\n",
    "He has tasked you with determining (and adequately validating) which features of a property predict this type of sale. \n",
    "\n",
    "---\n",
    "\n",
    "**Your task:**\n",
    "1. Determine which features predict the `Abnorml` category in the `SaleCondition` feature.\n",
    "- Justify your results.\n",
    "\n",
    "This is a challenging task that tests your ability to perform classification analysis in the face of severe class imbalance. You may find that simply running a classifier on the full dataset to predict the category ends up useless: when there is bad class imbalance classifiers often tend to simply guess the majority class.\n",
    "\n",
    "It is up to you to determine how you will tackle this problem. I recommend doing some research to find out how others have dealt with the problem in the past. Make sure to justify your solution. Don't worry about it being \"the best\" solution, but be rigorous.\n",
    "\n",
    "Be sure to indicate which features are predictive (if any) and whether they are positive or negative predictors of abnormal sales."
   ]
  },
  {
   "cell_type": "code",
   "execution_count": null,
   "metadata": {
    "collapsed": true
   },
   "outputs": [],
   "source": [
    "# A:"
   ]
  }
 ],
 "metadata": {
  "anaconda-cloud": {},
  "kernelspec": {
   "display_name": "Python [default]",
   "language": "python",
   "name": "python2"
  },
  "language_info": {
   "codemirror_mode": {
    "name": "ipython",
    "version": 2
   },
   "file_extension": ".py",
   "mimetype": "text/x-python",
   "name": "python",
   "nbconvert_exporter": "python",
   "pygments_lexer": "ipython2",
   "version": "2.7.13"
  }
 },
 "nbformat": 4,
 "nbformat_minor": 2
}
